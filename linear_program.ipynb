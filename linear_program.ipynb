{
  "nbformat": 4,
  "nbformat_minor": 0,
  "metadata": {
    "kernelspec": {
      "display_name": "Python 3",
      "language": "python",
      "name": "python3"
    },
    "language_info": {
      "codemirror_mode": {
        "name": "ipython",
        "version": 3
      },
      "file_extension": ".py",
      "mimetype": "text/x-python",
      "name": "python",
      "nbconvert_exporter": "python",
      "pygments_lexer": "ipython3",
      "version": "3.8.3"
    },
    "colab": {
      "name": "linear_program.ipynb",
      "provenance": []
    }
  },
  "cells": [
    {
      "cell_type": "markdown",
      "metadata": {
        "id": "9jumWCBhHQyY",
        "colab_type": "text"
      },
      "source": [
        "# Linear/Integer Program\n",
        "This notebook outlines an integer programming perspective on the Covid-19 scheduling problem. In its current iteration, this model schedules people on a week-by-week basis, ensuring that people take 2 tests per week (if feasible) and attempting to keep the number of tests on any given day below a reasonable bound.\n",
        "\n",
        "The optimized variable is a $assignment$, a $(number\\_of\\_people * 7)$ binary matrix where each row is the weekly schedule for one person, where 0 means 'no test' and 1 means 'test'. We can incorporate $avail$, which is a $(number\\_of\\_people * 7)$ binary matrix that marks on which days people are on campus (0 is not on campus, 1 is on campus and available to test). This way, multiplying $avail$ by $assignment$ elementwise and summing across rows gives a $ number\\_of\\_people $ vector with the counts of well-scheduled tests that week for each person. Moreover, summing $ assignment$ across columns gives the total number of tests per day, which we want to keep fairly even.\n",
        "\n",
        "<!-- The optimized variable is $x0$, a $(7*number\\_of\\_people)$-length vector that gives a schedule for each person — the schedule is a subvector of 7 binary digits, with 0 meaning 'no test' and 1 meaning 'test'.\n",
        "\n",
        "To incorporate people's availabilities (here, availability for a test = on campus that day), we use a $(number\\_of\\_people) * (7*number\\_of\\_people)$ matrix $A_{eq}$, which has binary 7-vectors down the diagonal that incorporate people's availabilities (0 = not available, 1 = available). This way, $A_{eq} \\cdot x0 $ will return the number of scheduled tests that align with each person's schedule.\n",
        "\n",
        "We also use a binary matrix $A$ that when dotted with $x0$ gives a 7-vector of total tests per day, to ensure that each day's testing does not exceed a certain threshold. The threshold $b$ is simply the average number of tests per day: $\\frac{(number\\_of\\_people*tests\\_per\\_week)}{7} * (1 + \\mbox{buf})$, where buf is currently set to 0.05. -->"
      ]
    },
    {
      "cell_type": "code",
      "metadata": {
        "id": "1iav1QAuHQyZ",
        "colab_type": "code",
        "colab": {}
      },
      "source": [
        "from gurobipy import *\n",
        "import numpy as np\n",
        "import cvxpy as cp\n",
        "import matplotlib.pyplot as plt\n",
        "from matplotlib import colors"
      ],
      "execution_count": null,
      "outputs": []
    },
    {
      "cell_type": "markdown",
      "metadata": {
        "id": "uIlsrDbjHQyc",
        "colab_type": "text"
      },
      "source": [
        "# Setup"
      ]
    },
    {
      "cell_type": "code",
      "metadata": {
        "id": "f3LstPXAHQyc",
        "colab_type": "code",
        "colab": {}
      },
      "source": [
        "tests_per_week = 2\n",
        "number_of_people = 1000\n",
        "buffer = .05\n",
        "def runSetup():\n",
        "    avail = np.random.randint(0,2, size=(number_of_people, 7)) # random availabilities\n",
        "\n",
        "    '''\n",
        "    availability_matrix = np.random.randint(0,2, size=(number_of_people, 7*number_of_people)) # random availabilities\n",
        "    # availability_matrix = np.ones((number_of_people, 7*number_of_people)) # pretend everyone is available, always\n",
        "\n",
        "    # Zero out irrelevant parts of the matrix\n",
        "    for i in range(len(availability_matrix)):\n",
        "        if i > 0:\n",
        "            for j in range(i*7):\n",
        "                availability_matrix[i][j] = 0\n",
        "        if i < len(availability_matrix):\n",
        "            for j in range((i+1)*7, 7*number_of_people):\n",
        "                availability_matrix[i][j] = 0\n",
        "    '''\n",
        "\n",
        "    # Dealing with infeasibles...\n",
        "    people_total_availability = np.sum(avail, 1)\n",
        "    infeasible_people = np.where(people_total_availability < tests_per_week)\n",
        "\n",
        "    # Enforce that everyone gets two tests a week\n",
        "    # Aeq = availability_matrix\n",
        "    beq = np.multiply(tests_per_week, np.ones((number_of_people,1)))\n",
        "\n",
        "    # Loosen beq in the case where people aren't available enough\n",
        "    for i in range(len(infeasible_people[0])):\n",
        "        beq[infeasible_people[0][i]][0] = people_total_availability[infeasible_people[0][i]]\n",
        "\n",
        "    # This picks up the number of total tests (per?) person each day of the week\n",
        "    testing_capacity_matrix = np.zeros((7, 7*number_of_people))\n",
        "    for i in range(len(testing_capacity_matrix)):\n",
        "        for j in range(i, 7*number_of_people, 7):\n",
        "            testing_capacity_matrix[i][j] = 1\n",
        "\n",
        "    A = testing_capacity_matrix\n",
        "    b_value = (number_of_people*tests_per_week/7)\n",
        "    b = np.multiply(b_value, np.ones((7,1)))\n",
        "    \n",
        "    return avail, b, beq"
      ],
      "execution_count": null,
      "outputs": []
    },
    {
      "cell_type": "markdown",
      "metadata": {
        "id": "24tAXkIMHQye",
        "colab_type": "text"
      },
      "source": [
        "Spread Score function..."
      ]
    },
    {
      "cell_type": "markdown",
      "metadata": {
        "id": "8W8OxUPjHQyf",
        "colab_type": "text"
      },
      "source": [
        "This takes in our assignment cvxpy variable and iterates through each row's $\\textit{values}$ to calculate a assignment-wide global score. The smaller the score, the better (i.e., more individual schedules are close to Q3.5). However, I can't figure out how to integrate this score() function into our objective, since you cannot access the assignment's values during the optimization, as far as I know. I'm basically wondering how cp.sum() can work as an optimizer but not our own score() function that we'd like to minimize on.\n",
        "\n",
        "After we get this working, it would be interesting to mess around with this function and make sure it's doing what we think it is. Do we really want the lowest global score? Is there a better goal?"
      ]
    },
    {
      "cell_type": "code",
      "metadata": {
        "id": "gbERySDJHQyf",
        "colab_type": "code",
        "colab": {}
      },
      "source": [
        "def score(assignment):\n",
        "    score = 0\n",
        "    for week in assignment.value:\n",
        "#         print(week)\n",
        "        scheduled_days = []\n",
        "        for i in range(7):\n",
        "            if week[i] == 1:\n",
        "                scheduled_days.append(i)\n",
        "        if len(scheduled_days) == 2:\n",
        "            score += ((scheduled_days[1] - scheduled_days[0]) - 3.5) ** 2\n",
        "#             print(score)\n",
        "    return score / number_of_people"
      ],
      "execution_count": null,
      "outputs": []
    },
    {
      "cell_type": "code",
      "metadata": {
        "id": "SWJwi2dfHQyh",
        "colab_type": "code",
        "colab": {}
      },
      "source": [
        "def demands(assignment):\n",
        "    daily_demands = np.sum(assignment.value, axis=0)\n",
        "    exp_supply_per_day = number_of_people * tests_per_week / 7\n",
        "    max_deviation = max(daily_demands.max() - exp_supply_per_day,\n",
        "                        exp_supply_per_day - daily_demands.min()) / exp_supply_per_day # MIN, right?\n",
        "    return daily_demands, max_deviation"
      ],
      "execution_count": null,
      "outputs": []
    },
    {
      "cell_type": "markdown",
      "metadata": {
        "id": "FECAtpNfHQyk",
        "colab_type": "text"
      },
      "source": [
        "cvxpy optimization... I think I got the constraints working, but please let me know if anything looks weird!"
      ]
    },
    {
      "cell_type": "code",
      "metadata": {
        "scrolled": true,
        "id": "4bZoync0HQyk",
        "colab_type": "code",
        "colab": {}
      },
      "source": [
        "avail, b, beq = runSetup()\n",
        "\n",
        "def runOpt():\n",
        "    assignment = cp.Variable((number_of_people, 7), boolean=True)\n",
        "\n",
        "    def objective():\n",
        "        expr = []\n",
        "        for i in range(7):\n",
        "            for j in range(i + 1, 7):\n",
        "                penalty = ((j - i) - 3.5)**2\n",
        "                expr.append(penalty * cp.sum(assignment[:, i], assignment[:, j]))\n",
        "        expr.append(cp.sum(expr))\n",
        "\n",
        "    constraints = [\n",
        "        cp.sum(assignment, axis=0) <= np.ceil(b.transpose()[0] * (1 + buffer)), # set load upper bound\n",
        "        cp.sum(assignment, axis=0) >= np.floor(b.transpose()[0] * (1 - buffer)), # set load lower bound\n",
        "        cp.sum(assignment, axis=1) == beq.transpose()[0], # enforce test-taking\n",
        "        cp.sum(cp.multiply(assignment, avail), axis=1) == beq.transpose()[0] # align with availability\n",
        "    ]\n",
        "\n",
        "    obj = cp.Minimize(objective)\n",
        "\n",
        "    prob = cp.Problem(obj, constraints=constraints)\n",
        "    prob.solve()\n",
        "\n",
        "    return assignment\n",
        "\n",
        "def analyze(assignment):\n",
        "    spreadScore = score(assignment)\n",
        "    daily_demands, max_deviation = demands(assignment)\n",
        "    return spreadScore, daily_demands, max_deviation\n",
        "\n",
        "assignment = runOpt()\n",
        "\n",
        "if assignment.value is not None:\n",
        "    spreadScore, daily_demands, max_deviation = analyze(assignment)\n",
        "else:\n",
        "    print(\"Situation infeasible\")"
      ],
      "execution_count": null,
      "outputs": []
    },
    {
      "cell_type": "code",
      "metadata": {
        "id": "p8Z-g_9FHQyn",
        "colab_type": "code",
        "colab": {}
      },
      "source": [
        "print(\"Spread score is: %.02f\" % spreadScore)\n",
        "print(\"Max deviation %% is: %.01f\" % (100 * max_deviation))\n",
        "print('Daily demand (min):', daily_demands.min())\n",
        "print('Daily demand (max):', daily_demands.max())\n",
        "print('All daily demands:', daily_demands)\n",
        "\n",
        "# Display Calendar\n",
        "\n",
        "scaled_assignment = np.multiply(assignment.value, 0.5)\n",
        "data = np.add(scaled_assignment, avail)\n",
        "\n",
        "# cmap = colors.ListedColormap(['gray', 'red', 'yellow', 'green'])\n",
        "# plt.title(\"Calendar\", fontsize=16)\n",
        "# plt.imshow(data, cmap=cmap, aspect='auto', extent=[0, 7, number_of_people, 0])\n",
        "# plt.grid(which='major', axis='both', linestyle='-', color='k', linewidth=1.2)\n",
        "# plt.xticks(np.arange(0,7, 1))\n",
        "# plt.yticks(np.arange(0, number_of_people, 1))\n",
        "\n",
        "# plt.xlabel(\"Day\", fontsize=12)\n",
        "# plt.ylabel(\"Person\", fontsize=12)\n",
        "# plt.show()"
      ],
      "execution_count": null,
      "outputs": []
    },
    {
      "cell_type": "markdown",
      "metadata": {
        "id": "fLv68_8JHQyq",
        "colab_type": "text"
      },
      "source": [
        "Run many trials to check distributions of spread score, etc."
      ]
    },
    {
      "cell_type": "code",
      "metadata": {
        "id": "fBva22gBHQyq",
        "colab_type": "code",
        "colab": {}
      },
      "source": [
        "%%time\n",
        "spreads = []\n",
        "devs = []\n",
        "infeasible = 0\n",
        "for _ in range(1000):\n",
        "    avail, b, beq = runSetup()\n",
        "    assignment = runOpt()\n",
        "    if assignment.value is not None:\n",
        "        spreadScore, daily_demands, max_deviation = analyze(assignment)\n",
        "        spreads.append(spreadScore)\n",
        "        devs.append(100 * max_deviation)\n",
        "    else:\n",
        "        infeasible += 1\n",
        "print(\"There were %d infeasible situations\" % infeasible)"
      ],
      "execution_count": null,
      "outputs": []
    },
    {
      "cell_type": "code",
      "metadata": {
        "id": "DESZ71w6HQys",
        "colab_type": "code",
        "colab": {}
      },
      "source": [
        "plt.title(\"Distribution of Spread Scores\")\n",
        "plt.hist(spreads)\n",
        "plt.show()\n",
        "\n",
        "plt.title(\"Distribution of Max Deviations (%)\")\n",
        "plt.hist(devs)\n",
        "plt.show()"
      ],
      "execution_count": null,
      "outputs": []
    },
    {
      "cell_type": "markdown",
      "metadata": {
        "id": "eXfhF3DlHQyw",
        "colab_type": "text"
      },
      "source": [
        "Below are various visualization functions that are not all working rn..."
      ]
    },
    {
      "cell_type": "code",
      "metadata": {
        "id": "F7s4OI4bHQyx",
        "colab_type": "code",
        "colab": {}
      },
      "source": [
        "def textSummary():\n",
        "    for i in range(number_of_people):\n",
        "        idx = 7*i\n",
        "        num_tests = 0\n",
        "        days_avail = 0\n",
        "        for j in range(7):\n",
        "            num_tests += x0[idx].x\n",
        "            days_avail += Aeq[i][idx]\n",
        "            idx += 1\n",
        "        if (days_avail < num_tests):\n",
        "            print(\"!!! Person %02d: available days = %d --> %d tests !!!\" % (i, days_avail, num_tests))\n",
        "        else:\n",
        "            print(\"Person %02d: available days = %d --> %d tests\" % (i, days_avail, num_tests))\n",
        "\n",
        "    print()\n",
        "    for i in range(7):\n",
        "        tests = 0\n",
        "        for j in range(i, 7*number_of_people, 7):\n",
        "            tests += x0[j].x\n",
        "        print(\"On day %d, %d tests\" % (i, tests))\n",
        "\n",
        "def displayAeq():\n",
        "    fig, ax = plt.subplots(figsize=(16,6))\n",
        "    cmap = colors.ListedColormap(['gray', 'yellow'])\n",
        "\n",
        "    ax.imshow(Aeq, cmap=cmap, aspect='auto', extent=[0, 7*number_of_people, number_of_people, 0])\n",
        "    ax.grid(which='major', axis='both', linestyle='-', color='k', linewidth=1.2)\n",
        "\n",
        "    ax.set_xticks(np.arange(0, 7*number_of_people, 7))\n",
        "    ax.set_yticks(np.arange(0, number_of_people, 2))\n",
        "    ax.set_ylabel(\"Person\", fontsize=16)\n",
        "    ax.set_xlabel(\"Person-Days [yellow=available]\", fontsize=16)\n",
        "    ax.set_title(\"Aeq (Availability Matrix)\", fontsize=20)\n",
        "\n",
        "    plt.savefig(\"Aeq.png\")\n",
        "    plt.show()\n",
        "    plt.close()\n",
        "    \n",
        "def displayA():\n",
        "    fig, ax = plt.subplots(figsize=(16,6))\n",
        "    cmap = colors.ListedColormap(['gray', 'yellow'])\n",
        "\n",
        "    ax.imshow(A, cmap=cmap, aspect='auto', extent=[0, 7*number_of_people, 7, 0])\n",
        "    ax.grid(which='major', axis='both', linestyle='-', color='k', linewidth=1.2)\n",
        "\n",
        "    ax.set_xticks(np.arange(0, 7*number_of_people, 7))\n",
        "    ax.set_yticks(np.arange(0, 7, 1))\n",
        "    ax.set_ylabel(\"Y Axis\", fontsize=16)\n",
        "    ax.set_xlabel(\"X Axis\", fontsize=16)\n",
        "    ax.set_title(\"A \", fontsize=20)\n",
        "\n",
        "    plt.savefig(\"A.png\")\n",
        "    plt.show()\n",
        "    plt.close()\n",
        "\n",
        "def displaybeq():\n",
        "    fig, ax = plt.subplots(figsize=(16,6))\n",
        "    cmap = colors.ListedColormap(['gray', 'yellow'])\n",
        "\n",
        "    # Turn beq numpy array to a flat list of beq values\n",
        "    beq_list = [item for sublist in beq.tolist() for item in sublist]\n",
        "\n",
        "    ax.bar(range(number_of_people), height=beq_list)\n",
        "    ax.set_yticks(range(0, int(max(beq_list)) + 1, 1))\n",
        "    ax.set_xticks(range(number_of_people))\n",
        "\n",
        "    ax.set_ylabel(\"Number of required tests\", fontsize=16)\n",
        "    ax.set_xlabel(\"Person\", fontsize=16)\n",
        "    ax.set_title(\"beq (Testing requirement)\", fontsize=20)\n",
        "\n",
        "    plt.savefig(\"beq.png\")\n",
        "    plt.show()\n",
        "    plt.close()\n",
        "    \n",
        "def makeCalendars(sol):\n",
        "    avail = np.zeros((1,7))\n",
        "    for i in range(number_of_people):\n",
        "        avail = np.append(avail, [Aeq[i][7*i:7*(i+1)]], axis=0)\n",
        "    avail = np.delete(avail, obj=0, axis=0)\n",
        "\n",
        "    sched_list = [sol[i].value for i in range(7*number_of_people)]\n",
        "    for i in range(len(sched_list)):\n",
        "        if sched_list[i] == 1:\n",
        "            sched_list[i] = .5\n",
        "    sched_list = np.asarray(sched_list)\n",
        "    sched_list = sched_list.reshape(number_of_people,7)\n",
        "    overlay = np.add(sched_list, avail)\n",
        "    return avail, sched_list, overlay\n",
        "\n",
        "def displayAvail(data):\n",
        "    fig, ax = plt.subplots(figsize=(8,data.shape[0]/5))\n",
        "    cmap = colors.ListedColormap(['gray', 'yellow'])\n",
        "\n",
        "    ax.imshow(data, cmap=cmap, aspect='auto', extent=[0, 7, number_of_people, 0])\n",
        "    ax.grid(which='major', axis='both', linestyle='-', color='k', linewidth=1.2)\n",
        "\n",
        "    # ax.set_xticks(np.arange(0, 7, 7))\n",
        "    ax.set_yticks(np.arange(0, number_of_people, 1))\n",
        "    ax.set_ylabel(\"Person\", fontsize=16)\n",
        "    ax.set_xlabel(\"Day [yellow=available]\", fontsize=16)\n",
        "    ax.set_title(\"Availability Matrix\", fontsize=20)\n",
        "\n",
        "    plt.savefig(\"avail.png\")\n",
        "    plt.show()\n",
        "    plt.close()\n",
        "    \n",
        "def displaySched(data):\n",
        "    fig, ax = plt.subplots(figsize=(8,data.shape[0]/5))\n",
        "    cmap = colors.ListedColormap(['gray', 'green'])\n",
        "\n",
        "    ax.imshow(data, cmap=cmap, aspect='auto', extent=[0, 7, number_of_people, 0])\n",
        "    ax.grid(which='major', axis='both', linestyle='-', color='k', linewidth=1.2)\n",
        "\n",
        "    # ax.set_xticks(np.arange(0, 7, 7))\n",
        "    ax.set_yticks(np.arange(0, number_of_people, 1))\n",
        "    ax.set_ylabel(\"Person\", fontsize=16)\n",
        "    ax.set_xlabel(\"Day [green=scheduled]\", fontsize=16)\n",
        "    ax.set_title(\"Scheduled Matrix\", fontsize=20)\n",
        "\n",
        "    plt.savefig(\"sched.png\")\n",
        "    plt.show()\n",
        "    plt.close()\n",
        "    \n",
        "def displayOverlay(data):\n",
        "    fig, ax = plt.subplots(figsize=(8,data.shape[0]/5))\n",
        "    cmap = colors.ListedColormap(['gray', 'red', 'yellow', 'green'])\n",
        "\n",
        "    ax.imshow(data, cmap=cmap, aspect='auto', extent=[0, 7, number_of_people, 0])\n",
        "    ax.grid(which='major', axis='both', linestyle='-', color='k', linewidth=1.2)\n",
        "\n",
        "    # ax.set_xticks(np.arange(0, 7, 7))\n",
        "    ax.set_yticks(np.arange(0, number_of_people, 1))\n",
        "    ax.set_ylabel(\"Person\", fontsize=16)\n",
        "    ax.set_xlabel(\"Day [yellow=available, green=scheduled, red if overscheduled]\", fontsize=12)\n",
        "    ax.set_title(\"Calendar\", fontsize=20)\n",
        "\n",
        "    plt.savefig(\"overlay.png\")\n",
        "    plt.show()\n",
        "    plt.close()\n",
        "    \n",
        "# Create \"spread\" metric -- only considers people with 2 tests a week\n",
        "def spreadCost(x0):\n",
        "    spread = []\n",
        "    intervals = []\n",
        "    \n",
        "    sched_list = [x0[i].value for i in range(len(x0))]\n",
        "    sched_list = np.asarray(sched_list)\n",
        "    sched_list = sched_list.reshape(number_of_people,7)\n",
        "    \n",
        "    for week in sched_list:\n",
        "        scheduled_days = np.where(week!=0)\n",
        "        if len(scheduled_days[0]) == 2:\n",
        "            intervals.append(scheduled_days[0][1] - scheduled_days[0][0])\n",
        "    for interval in intervals:\n",
        "        spread.append((interval - 3.5) ** 2)\n",
        "    return sum(spread) / number_of_people\n",
        "\n",
        "def maxDev(x0):\n",
        "    avail, sched, overlay = makeCalendars(x0)\n",
        "\n",
        "    daily_demands = np.multiply(sched.sum(axis=0), 2) # *2 because sched marks a test as 0.5\n",
        "    exp_supply_per_day = number_of_people * tests_per_week / 7\n",
        "    max_deviation = max(daily_demands.max() - exp_supply_per_day,\n",
        "                        exp_supply_per_day - daily_demands.max()) / exp_supply_per_day\n",
        "    return max_deviation"
      ],
      "execution_count": null,
      "outputs": []
    },
    {
      "cell_type": "code",
      "metadata": {
        "scrolled": true,
        "id": "abqqoMfRHQyz",
        "colab_type": "code",
        "colab": {}
      },
      "source": [
        "# This is the Gurobi version, which we can move away from I think...\n",
        "\n",
        "def schedule(number_of_people, tests_per_week):\n",
        "    m = Model()\n",
        "    m.setParam('OutputFlag', False)\n",
        "\n",
        "    # Define our scheduling vector as a variable\n",
        "    x0 = m.addVars(7*number_of_people, name='x0', vtype=GRB.BINARY) # x \\in [0,1]\n",
        "\n",
        "    m.setObjective(x0.sum(), GRB.MAXIMIZE) # maximize # of tests. perhaps not necessary?\n",
        "    # m.setObjective(spreadCost(x0), GRB.MINIMIZE) # aim to get tests close to Q3.5, not working!\n",
        "\n",
        "    # Ax <= b -- load balancing\n",
        "    for i in range(7):\n",
        "        m.addConstr(sum(x0[j]*A[i][j] for j in range(7*number_of_people)) <= b[i][0])\n",
        "\n",
        "\n",
        "    # Aeq x = beq -- enforce test-taking\n",
        "    for i in range(number_of_people):\n",
        "        m.addConstr(sum((x0[j])*Aeq[i][j] for j in range(7*i, 7*(i+1))) == beq[i][0])\n",
        "        m.addConstr(sum((x0[j]) for j in range(7*i, 7*(i+1))) == np.floor(beq[i][0]))\n",
        "\n",
        "    m.optimize()\n",
        "\n",
        "    avail, sched, overlay = makeCalendars(x0)\n",
        "\n",
        "    return spreadCost(x0), maxDev(x0)"
      ],
      "execution_count": null,
      "outputs": []
    },
    {
      "cell_type": "markdown",
      "metadata": {
        "id": "0Rq8L7tbHQy1",
        "colab_type": "text"
      },
      "source": [
        "Run the optimization many times to get a sense for the distribution of spread costs and max deviations..."
      ]
    },
    {
      "cell_type": "code",
      "metadata": {
        "scrolled": true,
        "id": "oNYoSJSpHQy1",
        "colab_type": "code",
        "colab": {}
      },
      "source": [
        "%%time\n",
        "\n",
        "spreadCosts = []\n",
        "max_deviations = []\n",
        "for _ in range(100):\n",
        "    c, d = schedule(2, 1000)\n",
        "    spreadCosts.append(c)\n",
        "    max_deviations.append(d)"
      ],
      "execution_count": null,
      "outputs": []
    },
    {
      "cell_type": "markdown",
      "metadata": {
        "id": "J22Kw3HnHQy3",
        "colab_type": "text"
      },
      "source": [
        "# Visualizations"
      ]
    },
    {
      "cell_type": "markdown",
      "metadata": {
        "id": "qoBP--fMHQy3",
        "colab_type": "text"
      },
      "source": [
        "Check out the distributions based on the above trials"
      ]
    },
    {
      "cell_type": "code",
      "metadata": {
        "scrolled": false,
        "id": "7KYm-rU-HQy4",
        "colab_type": "code",
        "colab": {}
      },
      "source": [
        "plt.title(\"Average Spread Cost\")\n",
        "plt.hist(spreadCosts, bins=20)\n",
        "plt.xlabel(\"average (test_interval - 3.5) ** 2\")\n",
        "plt.show()"
      ],
      "execution_count": null,
      "outputs": []
    },
    {
      "cell_type": "code",
      "metadata": {
        "id": "AfzN9pa6HQy6",
        "colab_type": "code",
        "colab": {}
      },
      "source": [
        "plt.title(\"Max Deviations\")\n",
        "plt.hist(max_deviations, bins=20)\n",
        "plt.xlabel(\"Max. deviation from average(%)\")\n",
        "plt.show()"
      ],
      "execution_count": null,
      "outputs": []
    },
    {
      "cell_type": "code",
      "metadata": {
        "id": "jD0rebMvHQy8",
        "colab_type": "code",
        "colab": {}
      },
      "source": [
        "plt.title(\"Spread Cost vs. Load Balancing -- Constrained\")\n",
        "plt.scatter(spreadCosts, max_deviations)\n",
        "plt.xlabel(\"Avg. Spread Cost = (interval-3.5) ** 2\", fontsize=12)\n",
        "plt.ylabel(\"Max. Deviation\", fontsize=12)\n",
        "plt.ylim(0, 0.2)\n",
        "plt.xlim(2.5, 3.3)\n",
        "plt.savefig(\"CostVsLoad_constrained.png\")\n",
        "plt.show()"
      ],
      "execution_count": null,
      "outputs": []
    },
    {
      "cell_type": "markdown",
      "metadata": {
        "id": "h60TahuDHQy-",
        "colab_type": "text"
      },
      "source": [
        "# Detailed stats for latest run"
      ]
    },
    {
      "cell_type": "markdown",
      "metadata": {
        "id": "Rs9RtMzIHQy-",
        "colab_type": "text"
      },
      "source": [
        "Should be similar to Parker's stats"
      ]
    },
    {
      "cell_type": "code",
      "metadata": {
        "id": "Ww8a0SrEHQy_",
        "colab_type": "code",
        "colab": {}
      },
      "source": [
        "print('Daily demand (min):', daily_demands.min())\n",
        "print('Daily demand (max):', daily_demands.max())\n",
        "print('All daily demands:', daily_demands)\n",
        "exp_supply_per_day = number_of_people * tests_per_week / 7\n",
        "print(exp_supply_per_day)\n",
        "max_deviation = max(daily_demands.max() - exp_supply_per_day,\n",
        "                    exp_supply_per_day - daily_demands.max()) / exp_supply_per_day\n",
        "print(\"Max Deviation:\", 100 * max_deviation)"
      ],
      "execution_count": null,
      "outputs": []
    },
    {
      "cell_type": "code",
      "metadata": {
        "id": "BIP-tebuHQzB",
        "colab_type": "code",
        "colab": {}
      },
      "source": [
        "print(\"--- Tests by Spacing ---\")\n",
        "for i in range(1,7):\n",
        "    print('{:d} days: {:d}'.format(i, intervals.count(i)))"
      ],
      "execution_count": null,
      "outputs": []
    },
    {
      "cell_type": "markdown",
      "metadata": {
        "id": "hlMtRFkCHQzD",
        "colab_type": "text"
      },
      "source": [
        "# Visualizing the schedules"
      ]
    },
    {
      "cell_type": "code",
      "metadata": {
        "scrolled": true,
        "id": "fxhQLNSlHQzE",
        "colab_type": "code",
        "colab": {}
      },
      "source": [
        "displayOverlay(overlay)"
      ],
      "execution_count": null,
      "outputs": []
    },
    {
      "cell_type": "code",
      "metadata": {
        "id": "lRbhWCOrHQzG",
        "colab_type": "code",
        "colab": {}
      },
      "source": [
        "displayAvail(avail)"
      ],
      "execution_count": null,
      "outputs": []
    },
    {
      "cell_type": "code",
      "metadata": {
        "id": "QrpLCO7tHQzI",
        "colab_type": "code",
        "colab": {}
      },
      "source": [
        "displaySched(sched)"
      ],
      "execution_count": null,
      "outputs": []
    }
  ]
}