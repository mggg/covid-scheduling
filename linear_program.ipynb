{
 "cells": [
  {
   "cell_type": "markdown",
   "metadata": {
    "colab_type": "text",
    "id": "9jumWCBhHQyY"
   },
   "source": [
    "# Integer Program Formulation\n",
    "This notebook outlines an integer programming perspective on the Covid-19 scheduling problem. In its current iteration, this model schedules people on a week-by-week basis, ensuring that people take $F_i = 2$ tests per week (if feasible, i.e. available at least 2 days) and attempting to keep the number of tests on any given day below a reasonable bound.\n",
    "\n",
    "The optimized variable is a $assignment$, a $(n\\_people, n\\_days)$ binary matrix where each row is the weekly schedule for one person, where 0 means 'no test' and 1 means 'test'. We can incorporate $avail$, which is a $(n\\_people, n\\_days)$ binary matrix that marks on which days people are on campus (0 is not on campus, 1 is on campus and available to test). This way, multiplying $avail$ by $assignment$ elementwise and summing across rows gives a $ n\\_people $ vector with the counts of well-scheduled tests that week for each person. Moreover, summing $ assignment$ across columns gives the total number of tests per day, which we want to keep fairly even."
   ]
  },
  {
   "cell_type": "code",
   "execution_count": 1,
   "metadata": {
    "colab": {},
    "colab_type": "code",
    "id": "1iav1QAuHQyZ"
   },
   "outputs": [],
   "source": [
    "import numpy as np\n",
    "import cvxpy as cp\n",
    "import matplotlib.pyplot as plt\n",
    "from matplotlib import colors"
   ]
  },
  {
   "cell_type": "markdown",
   "metadata": {
    "colab_type": "text",
    "id": "uIlsrDbjHQyc"
   },
   "source": [
    "# setup"
   ]
  },
  {
   "cell_type": "code",
   "execution_count": 2,
   "metadata": {},
   "outputs": [],
   "source": [
    "n_days = 7\n",
    "n_people = 20\n",
    "test_interval = 3.5 # corresponds to Qs_i\n",
    "n_tests = n_days / test_interval # corresponds to F_i\n",
    "buffer = .05"
   ]
  },
  {
   "cell_type": "code",
   "execution_count": 3,
   "metadata": {
    "colab": {},
    "colab_type": "code",
    "id": "f3LstPXAHQyc"
   },
   "outputs": [],
   "source": [
    "def runSetup():\n",
    "    # create random availability matrix\n",
    "    avail = np.random.randint(0,2, size=(n_people, n_days))\n",
    "    \n",
    "    # Identify people who have infeasible availabilities\n",
    "    people_total_availability = np.sum(avail, 1)\n",
    "    infeasible_people = np.where(people_total_availability < n_tests)\n",
    "    \n",
    "    # If people have 2 or fewer available days, their schedule can't be shifted\n",
    "    # to account for optimal spacing\n",
    "    unshiftable_people = np.where(people_total_availability <= n_tests)\n",
    "\n",
    "    # beq tracks how many tests people should take — 2 if possible, fewer if they're less available\n",
    "    beq = np.multiply(n_tests, np.ones((n_people,1)))\n",
    "    for i in range(len(infeasible_people[0])):\n",
    "        beq[infeasible_people[0][i]][0] = people_total_availability[infeasible_people[0][i]]\n",
    "        \n",
    "    # Setup for the optimal spacing constraint — see optimization constraints below\n",
    "    spaces = np.ones((n_people,))\n",
    "    for i in range(len(unshiftable_people[0])):\n",
    "        spaces[unshiftable_people[0][i]] += 1 \n",
    "\n",
    "    # Calculate the average number of tests per day\n",
    "    b_value = (n_people*n_tests/n_days)\n",
    "    b = np.multiply(b_value, np.ones((n_days,1)))\n",
    "    \n",
    "    return avail, b, beq, spaces"
   ]
  },
  {
   "cell_type": "markdown",
   "metadata": {
    "colab_type": "text",
    "id": "FECAtpNfHQyk"
   },
   "source": [
    "# cvxpy optimization"
   ]
  },
  {
   "cell_type": "code",
   "execution_count": 4,
   "metadata": {
    "colab": {},
    "colab_type": "code",
    "id": "4bZoync0HQyk",
    "scrolled": true
   },
   "outputs": [
    {
     "name": "stdout",
     "output_type": "stream",
     "text": [
      "Using license file /Users/gabe/gurobi.lic\n",
      "Academic license - for non-commercial use only\n"
     ]
    }
   ],
   "source": [
    "avail, b, beq, spaces = runSetup()\n",
    "\n",
    "def runOpt():\n",
    "    assignment = cp.Variable((n_people, n_days), boolean=True)\n",
    "\n",
    "    # Working on an objective function to track schedule spacing\n",
    "    # (not working right now, not implemented)\n",
    "    def objective():\n",
    "        expr = []\n",
    "        for i in range(n_days):\n",
    "            for j in range(i + 1, n_days):\n",
    "                penalty = ((j - i) - test_interval)**2\n",
    "                expr.append(penalty * cp.sum(assignment[:, i], assignment[:, j]))\n",
    "        expr.append(cp.sum(expr))\n",
    "        \n",
    "    # Helper matrix to identify consecutive tests\n",
    "    adjacencies = np.zeros((n_days-1, n_days))\n",
    "    for i in range(n_days-1):\n",
    "        adjacencies[i][i] = 1\n",
    "        adjacencies[i][i+1] = 1\n",
    "\n",
    "    constraints = [\n",
    "        cp.sum(assignment, axis=0) <= np.ceil(b.transpose()[0] * (1 + buffer)), # set load upper bound\n",
    "        cp.sum(assignment, axis=0) >= np.floor(b.transpose()[0] * (1 - buffer)), # set load lower bound\n",
    "        cp.sum(assignment, axis=1) == beq.transpose()[0], # enforce taking F_i tests\n",
    "        cp.sum(cp.multiply(assignment, avail), axis=1) == beq.transpose()[0] # align with availability\n",
    "    ]\n",
    "    \n",
    "    # Ensure each person has no consecutive days scheduled, unless that's all they can do\n",
    "    for i in range(6):\n",
    "        consec = adjacencies[i]*np.ones((n_people,1))\n",
    "        constraints.append(cp.sum(cp.multiply(assignment, consec), axis=1) <= spaces)\n",
    "\n",
    "#     obj = cp.Minimize(objective()) # Spread objective function (not working)\n",
    "    obj = cp.Maximize(cp.sum(assignment)) # Dummy objective function\n",
    "\n",
    "    prob = cp.Problem(obj, constraints=constraints)\n",
    "    prob.solve()\n",
    "\n",
    "    return assignment\n",
    "\n",
    "def analyze(assignment):\n",
    "    # Compute spread score (lower is better)\n",
    "    score = 0\n",
    "    for week in assignment.value:\n",
    "        scheduled_days = []\n",
    "        for i in range(n_days):\n",
    "            if week[i] == 1:\n",
    "                scheduled_days.append(i)\n",
    "        if len(scheduled_days) == 2:\n",
    "            score += ((scheduled_days[1] - scheduled_days[0]) - test_interval) ** 2\n",
    "    spreadScore = score / n_people\n",
    "    \n",
    "    # Compute daily demands, deviations\n",
    "    daily_demands = np.sum(assignment.value, axis=0)\n",
    "    exp_supply_per_day = n_people * n_tests / n_days\n",
    "    max_deviation = max(daily_demands.max() - exp_supply_per_day,\n",
    "                        exp_supply_per_day - daily_demands.min()) / exp_supply_per_day # MIN, right?\n",
    "    \n",
    "    return spreadScore, daily_demands, max_deviation\n",
    "\n",
    "assignment = runOpt()\n",
    "\n",
    "if assignment.value is not None:\n",
    "    spreadScore, daily_demands, max_deviation = analyze(assignment)\n",
    "else:\n",
    "    print(\"Situation infeasible\")"
   ]
  },
  {
   "cell_type": "markdown",
   "metadata": {},
   "source": [
    "# analysis"
   ]
  },
  {
   "cell_type": "code",
   "execution_count": 5,
   "metadata": {
    "colab": {},
    "colab_type": "code",
    "id": "p8Z-g_9FHQyn"
   },
   "outputs": [
    {
     "name": "stdout",
     "output_type": "stream",
     "text": [
      "Spread score is: 1.04\n",
      "Max deviation % is: 12.5\n",
      "Daily demand (min): 5.0\n",
      "Daily demand (max): 6.0\n",
      "All daily demands: [6. 5. 6. 5. 6. 5. 6.]\n"
     ]
    },
    {
     "data": {
      "image/png": "[encoded data removed]",
      "text/plain": [
       "<Figure size 432x288 with 1 Axes>"
      ]
     },
     "metadata": {
      "needs_background": "light"
     },
     "output_type": "display_data"
    }
   ],
   "source": [
    "print(\"Spread score is: %.02f\" % spreadScore)\n",
    "print(\"Max deviation %% is: %.01f\" % (100 * max_deviation))\n",
    "print('Daily demand (min):', daily_demands.min())\n",
    "print('Daily demand (max):', daily_demands.max())\n",
    "print('All daily demands:', daily_demands)\n",
    "\n",
    "\n",
    "if n_people <= 20:\n",
    "    # Display Calendar\n",
    "    scaled_assignment = np.multiply(assignment.value, 0.5)\n",
    "    data = np.add(scaled_assignment, avail)\n",
    "\n",
    "    outputColors = colors.ListedColormap(['gray', 'red', 'yellow', 'green'])\n",
    "    availColors = colors.ListedColormap(['gray', 'yellow'])\n",
    "\n",
    "    plt.title(\"Output Vector\", fontsize=16)\n",
    "    plt.imshow(data, cmap=outputColors, aspect='auto', extent=[0, n_days, n_people, 0])\n",
    "    plt.grid(which='major', axis='both', linestyle='-', color='k', linewidth=1.2)\n",
    "    plt.xticks(np.arange(0,n_days, 1))\n",
    "    plt.yticks(np.arange(0, n_people, 1))\n",
    "\n",
    "    plt.xlabel(\"Day\", fontsize=12)\n",
    "    plt.ylabel(\"Person\", fontsize=12)\n",
    "    plt.savefig('output.png', dpi=300, bbox_inches='tight')\n",
    "    plt.show()"
   ]
  },
  {
   "cell_type": "markdown",
   "metadata": {
    "colab_type": "text",
    "id": "fLv68_8JHQyq"
   },
   "source": [
    "# running many trials\n",
    "to check the distributions of spread scores, load balancing deviations"
   ]
  },
  {
   "cell_type": "code",
   "execution_count": 6,
   "metadata": {
    "colab": {},
    "colab_type": "code",
    "id": "fBva22gBHQyq"
   },
   "outputs": [
    {
     "name": "stdout",
     "output_type": "stream",
     "text": [
      "There were 80 infeasible situations\n",
      "CPU times: user 20 s, sys: 123 ms, total: 20.1 s\n",
      "Wall time: 20.6 s\n"
     ]
    }
   ],
   "source": [
    "%%time\n",
    "\n",
    "spreads = []\n",
    "devs = []\n",
    "infeasible = 0\n",
    "for t in range(1000):\n",
    "#     if (t%100 == 0):\n",
    "#         print(t)\n",
    "    avail, b, beq, spaces = runSetup()\n",
    "    assignment = runOpt()\n",
    "    if assignment.value is not None:\n",
    "        spreadScore, daily_demands, max_deviation = analyze(assignment)\n",
    "        spreads.append(spreadScore)\n",
    "        devs.append(100 * max_deviation)\n",
    "    else:\n",
    "        infeasible += 1\n",
    "print(\"There were %d infeasible situations\" % infeasible)"
   ]
  },
  {
   "cell_type": "code",
   "execution_count": 7,
   "metadata": {
    "colab": {},
    "colab_type": "code",
    "id": "DESZ71w6HQys"
   },
   "outputs": [
    {
     "data": {
      "image/png": "[encoded data removed]",
      "text/plain": [
       "<Figure size 432x288 with 1 Axes>"
      ]
     },
     "metadata": {
      "needs_background": "light"
     },
     "output_type": "display_data"
    },
    {
     "data": {
      "image/png": "[encoded data removed]",
      "text/plain": [
       "<Figure size 432x288 with 1 Axes>"
      ]
     },
     "metadata": {
      "needs_background": "light"
     },
     "output_type": "display_data"
    }
   ],
   "source": [
    "plt.title(\"Distribution of Spread Scores\")\n",
    "plt.hist(spreads)\n",
    "plt.savefig('spreads.png', dpi=300, bbox_inches='tight')\n",
    "plt.show()\n",
    "\n",
    "plt.title(\"Distribution of Max Deviations (%)\")\n",
    "plt.hist(devs)\n",
    "plt.savefig('maxDevs.png', dpi=300, bbox_inches='tight')\n",
    "plt.show()"
   ]
  },
  {
   "cell_type": "code",
   "execution_count": null,
   "metadata": {},
   "outputs": [],
   "source": []
  }
 ],
 "metadata": {
  "colab": {
   "name": "linear_program.ipynb",
   "provenance": []
  },
  "kernelspec": {
   "display_name": "Python 3",
   "language": "python",
   "name": "python3"
  },
  "language_info": {
   "codemirror_mode": {
    "name": "ipython",
    "version": 3
   },
   "file_extension": ".py",
   "mimetype": "text/x-python",
   "name": "python",
   "nbconvert_exporter": "python",
   "pygments_lexer": "ipython3",
   "version": "3.8.3"
  }
 },
 "nbformat": 4,
 "nbformat_minor": 1
}
