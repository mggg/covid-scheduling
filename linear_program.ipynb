{
 "cells": [
  {
   "cell_type": "markdown",
   "metadata": {
    "colab_type": "text",
    "id": "9jumWCBhHQyY"
   },
   "source": [
    "# Integer Program Formulation\n",
    "This notebook outlines an integer programming perspective on the Covid-19 scheduling problem. In its current iteration, this model schedules people on a week-by-week basis, ensuring that people take 2 tests per week (if feasible) and attempting to keep the number of tests on any given day below a reasonable bound.\n",
    "\n",
    "The optimized variable is a $assignment$, a $(number\\_of\\_people, 7)$ binary matrix where each row is the weekly schedule for one person, where 0 means 'no test' and 1 means 'test'. We can incorporate $avail$, which is a $(number\\_of\\_people 7)$ binary matrix that marks on which days people are on campus (0 is not on campus, 1 is on campus and available to test). This way, multiplying $avail$ by $assignment$ elementwise and summing across rows gives a $ number\\_of\\_people $ vector with the counts of well-scheduled tests that week for each person. Moreover, summing $ assignment$ across columns gives the total number of tests per day, which we want to keep fairly even.\n",
    "\n",
    "<!-- The optimized variable is $x0$, a $(7*number\\_of\\_people)$-length vector that gives a schedule for each person — the schedule is a subvector of 7 binary digits, with 0 meaning 'no test' and 1 meaning 'test'.\n",
    "\n",
    "To incorporate people's availabilities (here, availability for a test = on campus that day), we use a $(number\\_of\\_people) * (7*number\\_of\\_people)$ matrix $A_{eq}$, which has binary 7-vectors down the diagonal that incorporate people's availabilities (0 = not available, 1 = available). This way, $A_{eq} \\cdot x0 $ will return the number of scheduled tests that align with each person's schedule.\n",
    "\n",
    "We also use a binary matrix $A$ that when dotted with $x0$ gives a 7-vector of total tests per day, to ensure that each day's testing does not exceed a certain threshold. The threshold $b$ is simply the average number of tests per day: $\\frac{(number\\_of\\_people*tests\\_per\\_week)}{7} * (1 + \\mbox{buf})$, where buf is currently set to 0.05. -->"
   ]
  },
  {
   "cell_type": "code",
   "execution_count": 1367,
   "metadata": {
    "colab": {},
    "colab_type": "code",
    "id": "1iav1QAuHQyZ"
   },
   "outputs": [],
   "source": [
    "import numpy as np\n",
    "import cvxpy as cp\n",
    "import matplotlib.pyplot as plt\n",
    "from matplotlib import colors"
   ]
  },
  {
   "cell_type": "markdown",
   "metadata": {
    "colab_type": "text",
    "id": "uIlsrDbjHQyc"
   },
   "source": [
    "# setup"
   ]
  },
  {
   "cell_type": "code",
   "execution_count": 1609,
   "metadata": {
    "colab": {},
    "colab_type": "code",
    "id": "f3LstPXAHQyc"
   },
   "outputs": [],
   "source": [
    "tests_per_week = 2\n",
    "number_of_people = 20\n",
    "buffer = .05\n",
    "def runSetup():\n",
    "    avail = np.random.randint(0,2, size=(number_of_people, 7)) # random availabilities\n",
    "\n",
    "    spaces = np.ones((number_of_people,))\n",
    "\n",
    "    # Dealing with infeasibles...\n",
    "    people_total_availability = np.sum(avail, 1)\n",
    "    infeasible_people = np.where(people_total_availability < tests_per_week)\n",
    "    unshiftable_people = np.where(people_total_availability <= tests_per_week)\n",
    "\n",
    "    # Enforce that everyone gets two tests a week\n",
    "    # Aeq = availability_matrix\n",
    "    beq = np.multiply(tests_per_week, np.ones((number_of_people,1)))\n",
    "\n",
    "    # Loosen beq in the case where people aren't available enough\n",
    "    for i in range(len(infeasible_people[0])):\n",
    "        beq[infeasible_people[0][i]][0] = people_total_availability[infeasible_people[0][i]]\n",
    "        \n",
    "    for i in range(len(unshiftable_people[0])):\n",
    "        spaces[unshiftable_people[0][i]] += 1 # ensure that people with < test_per_week tests aren't space-constrained\n",
    "\n",
    "    # This picks up the number of total tests (per?) person each day of the week\n",
    "    testing_capacity_matrix = np.zeros((7, 7*number_of_people))\n",
    "    for i in range(len(testing_capacity_matrix)):\n",
    "        for j in range(i, 7*number_of_people, 7):\n",
    "            testing_capacity_matrix[i][j] = 1\n",
    "\n",
    "    A = testing_capacity_matrix\n",
    "    b_value = (number_of_people*tests_per_week/7)\n",
    "    b = np.multiply(b_value, np.ones((7,1)))\n",
    "    \n",
    "    return avail, b, beq, spaces"
   ]
  },
  {
   "cell_type": "markdown",
   "metadata": {
    "colab_type": "text",
    "id": "FECAtpNfHQyk"
   },
   "source": [
    "# cvxpy optimization"
   ]
  },
  {
   "cell_type": "code",
   "execution_count": 1630,
   "metadata": {
    "colab": {},
    "colab_type": "code",
    "id": "4bZoync0HQyk",
    "scrolled": true
   },
   "outputs": [],
   "source": [
    "avail, b, beq, spaces = runSetup()\n",
    "\n",
    "def runOpt():\n",
    "    assignment = cp.Variable((number_of_people, 7), boolean=True)\n",
    "\n",
    "    def objective():\n",
    "        expr = []\n",
    "        for i in range(7):\n",
    "            for j in range(i + 1, 7):\n",
    "                penalty = ((j - i) - 3.5)**2\n",
    "                expr.append(penalty * cp.sum(assignment[:, i], assignment[:, j]))\n",
    "        expr.append(cp.sum(expr))\n",
    "        \n",
    "    adjacences = np.zeros((6, 7))\n",
    "    for i in range(6):\n",
    "        adjacences[i][i] = 1\n",
    "        adjacences[i][i+1] = 1\n",
    "\n",
    "    constraints = [\n",
    "        cp.sum(assignment, axis=0) <= np.ceil(b.transpose()[0] * (1 + buffer)), # set load upper bound\n",
    "        cp.sum(assignment, axis=0) >= np.floor(b.transpose()[0] * (1 - buffer)), # set load lower bound\n",
    "        cp.sum(assignment, axis=1) == beq.transpose()[0], # enforce test-taking\n",
    "        cp.sum(cp.multiply(assignment, avail), axis=1) == beq.transpose()[0] # align with availability\n",
    "    ]\n",
    "    \n",
    "    # Ensure each person has no consecutive days scheduled\n",
    "    for i in range(6):\n",
    "        constraints.append(cp.sum(cp.multiply(assignment, adjacences[i]*np.ones((number_of_people,1))), axis=1) <= spaces)\n",
    "\n",
    "#     obj = cp.Minimize(objective())\n",
    "    obj = cp.Maximize(cp.sum(assignment)) # Dummy objective function\n",
    "\n",
    "    prob = cp.Problem(obj, constraints=constraints)\n",
    "    prob.solve()\n",
    "\n",
    "    return assignment\n",
    "\n",
    "def analyze(assignment):\n",
    "    # Compute spread score (lower is better)\n",
    "    score = 0\n",
    "    for week in assignment.value:\n",
    "        scheduled_days = []\n",
    "        for i in range(7):\n",
    "            if week[i] == 1:\n",
    "                scheduled_days.append(i)\n",
    "        if len(scheduled_days) == 2:\n",
    "            score += ((scheduled_days[1] - scheduled_days[0]) - 3.5) ** 2\n",
    "    spreadScore = score / number_of_people\n",
    "    \n",
    "    # Compute daily demands, deviations\n",
    "    daily_demands = np.sum(assignment.value, axis=0)\n",
    "    exp_supply_per_day = number_of_people * tests_per_week / 7\n",
    "    max_deviation = max(daily_demands.max() - exp_supply_per_day,\n",
    "                        exp_supply_per_day - daily_demands.min()) / exp_supply_per_day # MIN, right?\n",
    "    \n",
    "    return spreadScore, daily_demands, max_deviation\n",
    "\n",
    "assignment = runOpt()\n",
    "\n",
    "if assignment.value is not None:\n",
    "    spreadScore, daily_demands, max_deviation = analyze(assignment)\n",
    "else:\n",
    "    print(\"Situation infeasible\")"
   ]
  },
  {
   "cell_type": "markdown",
   "metadata": {},
   "source": [
    "Analysis/Summary"
   ]
  },
  {
   "cell_type": "code",
   "execution_count": 1631,
   "metadata": {
    "colab": {},
    "colab_type": "code",
    "id": "p8Z-g_9FHQyn"
   },
   "outputs": [
    {
     "name": "stdout",
     "output_type": "stream",
     "text": [
      "Spread score is: 1.32\n",
      "Max deviation % is: 12.5\n",
      "Daily demand (min): 5.0\n",
      "Daily demand (max): 6.0\n",
      "All daily demands: [6. 5. 6. 5. 5. 6. 5.]\n"
     ]
    },
    {
     "data": {
      "image/png": "[encoded data removed]",
      "text/plain": [
       "<Figure size 432x288 with 1 Axes>"
      ]
     },
     "metadata": {
      "needs_background": "light"
     },
     "output_type": "display_data"
    }
   ],
   "source": [
    "print(\"Spread score is: %.02f\" % spreadScore)\n",
    "print(\"Max deviation %% is: %.01f\" % (100 * max_deviation))\n",
    "print('Daily demand (min):', daily_demands.min())\n",
    "print('Daily demand (max):', daily_demands.max())\n",
    "print('All daily demands:', daily_demands)\n",
    "\n",
    "# Display Calendar\n",
    "\n",
    "scaled_assignment = np.multiply(assignment.value, 0.5)\n",
    "data = np.add(scaled_assignment, avail)\n",
    "\n",
    "outputColors = colors.ListedColormap(['gray', 'red', 'yellow', 'green'])\n",
    "availColors = colors.ListedColormap(['gray', 'yellow'])\n",
    "\n",
    "plt.title(\"Output Vector\", fontsize=16)\n",
    "plt.imshow(data, cmap=outputColors, aspect='auto', extent=[0, 7, number_of_people, 0])\n",
    "plt.grid(which='major', axis='both', linestyle='-', color='k', linewidth=1.2)\n",
    "plt.xticks(np.arange(0,7, 1))\n",
    "plt.yticks(np.arange(0, number_of_people, 1))\n",
    "\n",
    "plt.xlabel(\"Day\", fontsize=12)\n",
    "plt.ylabel(\"Person\", fontsize=12)\n",
    "plt.savefig('output.png', dpi=300, bbox_inches='tight')\n",
    "plt.show()"
   ]
  },
  {
   "cell_type": "markdown",
   "metadata": {
    "colab_type": "text",
    "id": "fLv68_8JHQyq"
   },
   "source": [
    "Run many trials to check distributions of spread score, etc."
   ]
  },
  {
   "cell_type": "code",
   "execution_count": 1614,
   "metadata": {
    "colab": {},
    "colab_type": "code",
    "id": "fBva22gBHQyq"
   },
   "outputs": [
    {
     "name": "stdout",
     "output_type": "stream",
     "text": [
      "0\n",
      "50\n",
      "100\n",
      "150\n",
      "200\n",
      "250\n",
      "300\n",
      "350\n",
      "400\n",
      "450\n",
      "500\n",
      "550\n",
      "600\n",
      "650\n",
      "700\n",
      "750\n",
      "800\n",
      "850\n",
      "900\n",
      "950\n",
      "There were 45 infeasible situations\n",
      "CPU times: user 15.4 s, sys: 171 ms, total: 15.5 s\n",
      "Wall time: 16.3 s\n"
     ]
    }
   ],
   "source": [
    "%%time\n",
    "spreads = []\n",
    "devs = []\n",
    "infeasible = 0\n",
    "for t in range(1000):\n",
    "#     if (t%50 == 0):\n",
    "#         print(t)\n",
    "    avail, b, beq, spaces = runSetup()\n",
    "    assignment = runOpt()\n",
    "    if assignment.value is not None:\n",
    "        spreadScore, daily_demands, max_deviation = analyze(assignment)\n",
    "        spreads.append(spreadScore)\n",
    "        devs.append(100 * max_deviation)\n",
    "    else:\n",
    "        infeasible += 1\n",
    "print(\"There were %d infeasible situations\" % infeasible)"
   ]
  },
  {
   "cell_type": "code",
   "execution_count": 1615,
   "metadata": {
    "colab": {},
    "colab_type": "code",
    "id": "DESZ71w6HQys"
   },
   "outputs": [
    {
     "data": {
      "image/png": "[encoded data removed]",
      "text/plain": [
       "<Figure size 432x288 with 1 Axes>"
      ]
     },
     "metadata": {
      "needs_background": "light"
     },
     "output_type": "display_data"
    },
    {
     "data": {
      "image/png": "[encoded data removed]",
      "text/plain": [
       "<Figure size 432x288 with 1 Axes>"
      ]
     },
     "metadata": {
      "needs_background": "light"
     },
     "output_type": "display_data"
    }
   ],
   "source": [
    "plt.title(\"Distribution of Spread Scores, with consec. days\")\n",
    "plt.hist(spreads)\n",
    "plt.savefig('spreads_Consec.png', dpi=300, bbox_inches='tight')\n",
    "plt.show()\n",
    "\n",
    "plt.title(\"Distribution of Max Deviations (%), with consec. days\")\n",
    "plt.hist(devs)\n",
    "plt.savefig('maxDev_Consec.png', dpi=300, bbox_inches='tight')\n",
    "plt.show()"
   ]
  }
 ],
 "metadata": {
  "colab": {
   "name": "linear_program.ipynb",
   "provenance": []
  },
  "kernelspec": {
   "display_name": "Python 3",
   "language": "python",
   "name": "python3"
  },
  "language_info": {
   "codemirror_mode": {
    "name": "ipython",
    "version": 3
   },
   "file_extension": ".py",
   "mimetype": "text/x-python",
   "name": "python",
   "nbconvert_exporter": "python",
   "pygments_lexer": "ipython3",
   "version": "3.8.3"
  }
 },
 "nbformat": 4,
 "nbformat_minor": 1
}
