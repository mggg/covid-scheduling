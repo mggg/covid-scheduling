{
 "cells": [
  {
   "cell_type": "code",
   "execution_count": 1,
   "metadata": {},
   "outputs": [],
   "source": [
    "import numpy as np\n",
    "import cvxpy as cp\n",
    "import matplotlib.pyplot as plt\n",
    "from matplotlib import colors\n",
    "import random\n",
    "import time"
   ]
  },
  {
   "cell_type": "markdown",
   "metadata": {
    "colab_type": "text",
    "id": "9jumWCBhHQyY"
   },
   "source": [
    "# Integer Program Formulation\n",
    "This notebook outlines an integer programming perspective on the Covid-19 scheduling problem. In its current iteration, this model schedules people on a week-by-week basis, ensuring that people take $F_i = 2$ tests per week (if feasible, i.e. available at least 2 days) and attempting to keep the number of tests on any given day below a reasonable bound.\n",
    "\n",
    "Our latest iteration involves splitting up a day into $n\\_blocks = 3$ blocks and scheduling people to test at some point during one of the blocks. Therefore the optimized variable is $assignment$, a $(n\\_people, n\\_blocks \\times n\\_days)$ binary matrix where each row is the schedule for one person. Every $n\\_blocks$ entries represents one day, and a 0 in one entry means no test on that block, 1 means test. We can incorporate $avail$, which is a $(n\\_people, n\\_blocks \\times n\\_days)$ binary matrix that marks when people are on campus (0 is not on campus, 1 is on campus and available to test). This way, multiplying $avail$ by $assignment$ elementwise and computing the row-sums gives a $ n\\_people $ vector with the counts of well-scheduled tests that $n\\_days$ (usually week) for each person. Moreover, computing the column-sums $ assignment$ gives the total number of tests per block, which we want to keep fairly even.\n",
    "\n",
    "<!-- The optimized variable is $assignment$, a $(n\\_people, n\\_days)$ binary matrix where each row is the weekly schedule for one person, where 0 means 'no test' and 1 means 'test'. We can incorporate $avail$, which is a $(n\\_people, n\\_days)$ binary matrix that marks on which days people are on campus (0 is not on campus, 1 is on campus and available to test). This way, multiplying $avail$ by $assignment$ elementwise and summing across rows gives a $ n\\_people $ vector with the counts of well-scheduled tests that week for each person. Moreover, summing $ assignment$ across columns gives the total number of tests per day, which we want to keep fairly even. -->"
   ]
  },
  {
   "cell_type": "markdown",
   "metadata": {
    "colab_type": "text",
    "id": "uIlsrDbjHQyc"
   },
   "source": [
    "# setup"
   ]
  },
  {
   "cell_type": "markdown",
   "metadata": {},
   "source": [
    "One important aspect is creating a realistic schedule on which to test our model. It's not as simple as just letting everyone have random availability. It would be nice to have a tool that allows you to tweak the specific scheduling parameters for different campuses. Here are things we should consider:\n",
    "* Split campus community members into three groups — students, faculty, staff\n",
    "* A large proportion of students should be available 7 days a week, since they live on campus\n",
    "* The rest of the students should be available on the weekends and either on MWF or TTh (this is at least the case at UChicago — should investigate more)\n",
    "* Professors should be available 1-2 days a week, never on weekends\n",
    "  * If 2 days a week, not consecutive days?\n",
    "* Staff ??? depends on the staff, need to think more about this."
   ]
  },
  {
   "cell_type": "code",
   "execution_count": 2,
   "metadata": {},
   "outputs": [],
   "source": [
    "def runIP(n_people, n_blocks, buffer=0.2, n_days=7, test_interval=3.5, pcts=[.7,.2,1]):\n",
    "    \n",
    "    # Create matrices to identify tests on consecutive or same days\n",
    "    def make_constraints(n_days, n_blocks):\n",
    "        consecs = np.zeros((n_blocks**2, 2*n_blocks))\n",
    "        for i in range(n_blocks**2):\n",
    "            for j in range(2*n_blocks):\n",
    "                consecs[i][int(np.floor(i/n_blocks))] = 1\n",
    "                consecs[i][int(n_blocks + np.floor(i%n_blocks))] = 1\n",
    "        possible_adjs = (n_blocks**2) * (n_days-1)\n",
    "        adjacencies = np.zeros((possible_adjs, 1*n_blocks * n_days)) # quadratic w. number of blocks\n",
    "        for i in range(n_days - 1):\n",
    "            adjacencies[(n_blocks**2) *i:(n_blocks**2) * (i+1), n_blocks*i:n_blocks*i + 2*n_blocks] = consecs\n",
    "        sameDays = np.zeros((n_days, n_blocks*n_days))\n",
    "        for i in range(len(sameDays)):\n",
    "            idx = n_blocks*i\n",
    "            for j in range(n_blocks):\n",
    "                sameDays[i][idx + j] = 1\n",
    "        return adjacencies, sameDays\n",
    "    \n",
    "    # Set-up non-deterministic schedules for each IP run\n",
    "    def runSetup(pcts, n_people, n_days, n_blocks, n_tests):\n",
    "        def make_avails_random(n_people, n_days, n_blocks):\n",
    "            avail = np.random.randint(0,2, size=(n_people, n_blocks*n_days))\n",
    "            avail_days = np.zeros((n_people, n_days))\n",
    "            for i in range(n_people):\n",
    "                for j in range(n_days):\n",
    "                    isAvail = False\n",
    "                    for k in range(n_blocks):\n",
    "                        if avail[i][j*n_blocks + k] == 1:\n",
    "                            isAvail = True\n",
    "                    if isAvail:\n",
    "                        avail_days[i][j] = 1\n",
    "            return avail, avail_days\n",
    "\n",
    "        def make_avails(student_pct, prof_pct, staff_pct):\n",
    "            weeks = {'fully_avail':[1,1,1,1,1,1,1], 'mwf':[1,0,1,0,1,1,1], 'tth':[0,1,0,1,0,1,1],\n",
    "                     '1prof1':[1,0,0,0,0,0,0], '1prof2':[0,1,0,0,0,0,0], '1prof3':[0,0,1,0,0,0,0],\n",
    "                     '1prof4':[0,0,0,1,0,0,0], '1prof5':[0,0,0,0,1,0,0], '1prof1':[1,0,0,0,0,0,0],\n",
    "                     '2prof1':[1,0,1,0,0,0,0], '2prof2':[0,1,0,1,0,0,0], '2prof3':[0,0,1,0,1,0,0]}\n",
    "            avail = np.zeros((n_people, n_days))\n",
    "            for row in range(len(avail)):\n",
    "                member = random.uniform(0,1)\n",
    "                if member < student_pct: \n",
    "                    studentAvail = random.uniform(0,1)\n",
    "                    if studentAvail < 0.7:\n",
    "                        avail[row] = weeks['fully_avail']\n",
    "                        continue\n",
    "                    else:\n",
    "                        flipCoin = random.uniform(0,1)\n",
    "                        if flipCoin < 0.5:\n",
    "                            avail[row] = weeks['mwf']\n",
    "                            continue\n",
    "                        else:\n",
    "                            avail[row] = weeks['tth']\n",
    "                            continue\n",
    "                elif member < student_pct + prof_pct + staff_pct: # treat staff same as profs (for now)\n",
    "                    oneOrTwo = random.uniform(0,1)\n",
    "                    if oneOrTwo < 0.7: # 70% chance profs/staff are one campus 1x a week\n",
    "                        i = '1'\n",
    "                        day = str(random.randint(1,5))\n",
    "                        avail[row] = weeks[i + 'prof' + day]\n",
    "                        continue\n",
    "                    else:\n",
    "                        i = '2'\n",
    "                        day = str(random.randint(1,3))\n",
    "                        avail[row] = weeks[i + 'prof' + day]\n",
    "                        continue\n",
    "            return avail\n",
    "\n",
    "        avail, avail_days = make_avails_random(n_people, n_days, n_blocks) # truly random availability\n",
    "    #     avail = make_avails(pcts[0], pcts[1], pcts[2]) # more realistic -- not in parallel to random one!\n",
    "        people_total_availability = np.sum(avail_days, 1)\n",
    "        infeasible_people = np.where(people_total_availability < n_tests)\n",
    "        unshiftable_people = np.where(people_total_availability <= n_tests)\n",
    "        necessary_tests = np.multiply(n_tests, np.ones((n_people,)))\n",
    "        for i in range(len(infeasible_people[0])):\n",
    "            necessary_tests[infeasible_people[0][i]] = people_total_availability[infeasible_people[0][i]]\n",
    "        spaces = np.ones((n_people,))\n",
    "        for i in range(len(unshiftable_people[0])):\n",
    "            spaces[unshiftable_people[0][i]] += 1 \n",
    "        avg_daily_tests_value = (n_people*n_tests/n_days)\n",
    "        avg_daily_tests = np.multiply(avg_daily_tests_value, np.ones((n_days,)))\n",
    "\n",
    "        # Calculate the average number of tests per block\n",
    "        avg_block_tests_value = avg_daily_tests_value / n_blocks\n",
    "        avg_block_tests = np.multiply(avg_block_tests_value, np.ones((n_blocks * n_days,)))\n",
    "\n",
    "        return avail, avg_daily_tests, avg_block_tests, necessary_tests, spaces\n",
    "    \n",
    "    assignment = cp.Variable((n_people, n_blocks * n_days), boolean=True)\n",
    "    adjacencies, sameDays = make_constraints(n_days, n_blocks)\n",
    "    avail, avg_daily_tests, avg_block_tests, necessary_tests, spaces = runSetup(pcts, n_people, n_days, n_blocks, n_days/test_interval)\n",
    "    \n",
    "    constraints = [\n",
    "        cp.sum(assignment, axis=0) <= np.ceil(avg_block_tests * (1 + buffer)), # set load ub\n",
    "        cp.sum(assignment, axis=0) >= np.floor(avg_block_tests * (1 - buffer)), # set load lb\n",
    "        cp.sum(assignment, axis=1) == necessary_tests, # enforce taking F_i tests\n",
    "        cp.sum(cp.multiply(assignment, avail), axis=1) == necessary_tests # align with availability\n",
    "    ]\n",
    "    # Ensure that nobody is scheduled more than once each day\n",
    "    for i in range(n_days):\n",
    "        same = sameDays[i]*np.ones((n_people,1))\n",
    "        constraints.append(cp.sum(cp.multiply(assignment, same), axis=1) <= np.ones((n_people,)))\n",
    "    # Ensure each person has no consecutive days scheduled, unless that's all they can do\n",
    "    for i in range(len(adjacencies)):\n",
    "        consec = adjacencies[i]*np.ones((n_people,1))\n",
    "        constraints.append(cp.sum(cp.multiply(assignment, consec), axis=1) <= spaces)\n",
    "#     obj = cp.Minimize(objective()) # Spread objective function (not working)\n",
    "    obj = cp.Maximize(cp.sum(assignment)) # Dummy objective function\n",
    "    prob = cp.Problem(obj, constraints=constraints)\n",
    "    prob.solve()\n",
    "    return assignment, avail"
   ]
  },
  {
   "cell_type": "code",
   "execution_count": 26,
   "metadata": {},
   "outputs": [],
   "source": [
    "def analyzeIP(assignment, n_people, n_blocks, n_days=7, test_interval=3.5):\n",
    "    sched_days = np.zeros((n_people, n_days))\n",
    "    sched_blocks = assignment.value\n",
    "    for i in range(n_people):\n",
    "        for j in range(n_days):\n",
    "            isAvail = False\n",
    "            for k in range(n_blocks):\n",
    "                if sched_blocks[i][j*n_blocks + k] == 1:\n",
    "                    isAvail = True\n",
    "            if isAvail:\n",
    "                sched_days[i][j] = 1\n",
    "    # Compute spread score (lower is better)\n",
    "    score = 0\n",
    "    for week in sched_days:\n",
    "        scheduled_days = []\n",
    "        for i in range(n_days):\n",
    "            if week[i] == 1:\n",
    "                scheduled_days.append(i)\n",
    "        if len(scheduled_days) == 2:\n",
    "            score += ((scheduled_days[1] - scheduled_days[0]) - test_interval) ** 2\n",
    "    spreadScore = score / n_people\n",
    "    # Compute block demands, deviations\n",
    "    block_demands = np.sum(assignment.value, axis=0)\n",
    "    exp_supply_per_block = n_people / (n_blocks * test_interval)\n",
    "    max_deviation = max(block_demands.max() - exp_supply_per_block,\n",
    "                        exp_supply_per_block - block_demands.min()) / exp_supply_per_block\n",
    "    \n",
    "    return spreadScore, block_demands, max_deviation"
   ]
  },
  {
   "cell_type": "code",
   "execution_count": 27,
   "metadata": {},
   "outputs": [],
   "source": [
    "def showLast(assignment, avail, n_people, n_blocks, spreadScore, block_demands, max_deviation, n_days=7):\n",
    "    print(\"Spread score is: %.02f\" % spreadScore)\n",
    "    print(\"Max deviation %% is: %.01f\" % (100 * max_deviation))\n",
    "    print('Block demand (min):', block_demands.min())\n",
    "    print('Block demand (max):', block_demands.max())\n",
    "    print('All block demands:', block_demands)\n",
    "    daily_demands = [sum(block_demands[i:i+n_blocks]) for i in range(0, n_blocks*n_days - 1, n_blocks)]\n",
    "    print('All daily demands:', daily_demands)\n",
    "    if n_people < 1000:\n",
    "        # Display Calendar\n",
    "        scaled_assignment = np.multiply(assignment.value, 0.5)\n",
    "        data = np.add(scaled_assignment, avail)\n",
    "        outputColors = colors.ListedColormap(['gray', 'red', 'yellow', 'green'])\n",
    "        availColors = colors.ListedColormap(['gray', 'yellow'])\n",
    "\n",
    "        plt.figure(num=1, figsize=(8,n_people/4))\n",
    "        plt.title(\"Output Vector\", fontsize=16)\n",
    "        plt.imshow(data, cmap=outputColors, aspect='auto', extent=[0, n_days, n_people, 0])\n",
    "        plt.grid(which='major', axis='both', linestyle='-', color='k', linewidth=1.2)\n",
    "        plt.xticks(np.arange(0,n_days, 1))\n",
    "        plt.yticks(np.arange(0, n_people, 1))\n",
    "        plt.xlabel(\"Day\", fontsize=12)\n",
    "        plt.ylabel(\"Person\", fontsize=12)\n",
    "        plt.savefig('output.png', dpi=300, bbox_inches='tight')\n",
    "        plt.show()"
   ]
  },
  {
   "cell_type": "code",
   "execution_count": 28,
   "metadata": {},
   "outputs": [],
   "source": [
    "def runTrials(n_trials, n_people, n_blocks):\n",
    "    times = []\n",
    "    spreads = []\n",
    "    maxDevs = []\n",
    "    infeasibles = 0\n",
    "    for _ in range(n_trials):\n",
    "        if (_ % 10 == 0):\n",
    "            print(_)\n",
    "        begin = time.perf_counter()\n",
    "        assignment, avail = runIP(n_people, n_blocks)\n",
    "        end = time.perf_counter()\n",
    "        if assignment.value is not None:\n",
    "            spreadScore, block_demands, max_deviation = analyzeIP(assignment, n_people, n_blocks)\n",
    "            times.append(end-begin)\n",
    "            spreads.append(spreadScore)\n",
    "            maxDevs.append(max_deviation)\n",
    "#             print('Optimization done.')\n",
    "        else:\n",
    "            infeasibles += 1\n",
    "#             print('Situation infeasible.')\n",
    "    print(\"There were %d infeasibles\" % infeasibles)\n",
    "    print()\n",
    "    print(\"Summary of last IP run...\")\n",
    "    showLast(assignment, avail, n_people, n_blocks, spreadScore, block_demands, max_deviation)\n",
    "    return times, spreads, maxDevs"
   ]
  },
  {
   "cell_type": "code",
   "execution_count": 29,
   "metadata": {},
   "outputs": [],
   "source": [
    "def plotTrials(times, spreads, maxDevs, n_trials, n_people, n_blocks, buffer=0.2):\n",
    "    fig, ax = plt.subplots(1,3, figsize=(16,4))\n",
    "    fig.suptitle(\"%d people, %d blocks, random availability\" % (n_people, n_blocks), fontsize=16)\n",
    "    \n",
    "    ax[0].set_title(\"Runtime\", fontsize=12)\n",
    "    ax[0].set_xlabel(\"seconds\", fontsize=12)\n",
    "    ax[0].hist(times)\n",
    "    \n",
    "    \n",
    "    ax[1].set_title(\"Spread Score\", fontsize=12)\n",
    "    ax[1].set_xlabel(\"squared distance from ideal test_interval\", fontsize=12)\n",
    "    ax[1].hist(spreads)\n",
    "    \n",
    "    ax[2].set_title(\"Max Deviation (capped at ~ %.02f)\" % buffer, fontsize=12)\n",
    "    ax[2].set_xlabel(\"% deviation from avg\", fontsize=12)\n",
    "    ax[2].hist(maxDevs)\n",
    "    \n",
    "#     fig.show()\n",
    "    fig.savefig(\"p\" + str(n_people) + \"b\" + str(n_blocks) + \"_x\" + str(n_trials) + \".png\", dpi=300)"
   ]
  },
  {
   "cell_type": "code",
   "execution_count": 32,
   "metadata": {
    "scrolled": false
   },
   "outputs": [
    {
     "name": "stdout",
     "output_type": "stream",
     "text": [
      "0\n",
      "10\n",
      "20\n",
      "30\n",
      "40\n",
      "50\n",
      "60\n",
      "70\n",
      "80\n",
      "90\n",
      "There were 0 infeasibles\n",
      "\n",
      "Summary of last IP run...\n",
      "Spread score is: 1.54\n",
      "Max deviation % is: 20.7\n",
      "Block demand (min): 76.0\n",
      "Block demand (max): 115.0\n",
      "All block demands: [115. 115. 115. 115.  77. 115.  76.  76.  76.  76.  76.  76.  76. 115.\n",
      " 115.  76.  89. 115. 115.  76. 115.]\n",
      "All daily demands: [345.0, 307.0, 228.0, 228.0, 306.0, 280.0, 306.0]\n"
     ]
    }
   ],
   "source": [
    "times, spreads, maxDevs = runTrials(100, 1000, 3)"
   ]
  },
  {
   "cell_type": "code",
   "execution_count": 33,
   "metadata": {
    "scrolled": true
   },
   "outputs": [
    {
     "data": {
      "image/png": "[encoded data removed]",
      "text/plain": [
       "<Figure size 1152x288 with 3 Axes>"
      ]
     },
     "metadata": {
      "needs_background": "light"
     },
     "output_type": "display_data"
    }
   ],
   "source": [
    "plotTrials(times, spreads, maxDevs, 100, 1000, 3)"
   ]
  },
  {
   "cell_type": "code",
   "execution_count": null,
   "metadata": {},
   "outputs": [],
   "source": []
  }
 ],
 "metadata": {
  "colab": {
   "name": "linear_program.ipynb",
   "provenance": []
  },
  "kernelspec": {
   "display_name": "Python 3",
   "language": "python",
   "name": "python3"
  },
  "language_info": {
   "codemirror_mode": {
    "name": "ipython",
    "version": 3
   },
   "file_extension": ".py",
   "mimetype": "text/x-python",
   "name": "python",
   "nbconvert_exporter": "python",
   "pygments_lexer": "ipython3",
   "version": "3.8.3"
  }
 },
 "nbformat": 4,
 "nbformat_minor": 1
}
