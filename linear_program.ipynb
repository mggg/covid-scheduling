{
 "cells": [
  {
   "cell_type": "code",
   "execution_count": 104,
   "metadata": {},
   "outputs": [],
   "source": [
    "import numpy as np\n",
    "import cvxpy as cp\n",
    "import matplotlib.pyplot as plt\n",
    "from matplotlib import colors\n",
    "import random\n",
    "import time"
   ]
  },
  {
   "cell_type": "markdown",
   "metadata": {
    "colab_type": "text",
    "id": "9jumWCBhHQyY"
   },
   "source": [
    "# Integer Program Formulation\n",
    "This notebook outlines an integer programming perspective on the Covid-19 scheduling problem. In its current iteration, this model schedules people on a week-by-week basis, ensuring that people take $F_i = 2$ tests per week (if feasible, i.e. available at least 2 days) and attempting to keep the number of tests on any given day below a reasonable bound.\n",
    "\n",
    "Our latest iteration involves splitting up a day into $n\\_blocks = 3$ blocks and scheduling people to test at some point during one of the blocks. Therefore the optimized variable is $assignment$, a $(n\\_people, n\\_blocks \\times n\\_days)$ binary matrix where each row is the schedule for one person. Every $n\\_blocks$ entries represents one day, and a 0 in one entry means no test on that block, 1 means test. We can incorporate $avail$, which is a $(n\\_people, n\\_blocks \\times n\\_days)$ binary matrix that marks when people are on campus (0 is not on campus, 1 is on campus and available to test). This way, multiplying $avail$ by $assignment$ elementwise and computing the row-sums gives a $ n\\_people $ vector with the counts of well-scheduled tests that $n\\_days$ (usually week) for each person. Moreover, computing the column-sums $ assignment$ gives the total number of tests per block, which we want to keep fairly even.\n",
    "\n",
    "<!-- The optimized variable is $assignment$, a $(n\\_people, n\\_days)$ binary matrix where each row is the weekly schedule for one person, where 0 means 'no test' and 1 means 'test'. We can incorporate $avail$, which is a $(n\\_people, n\\_days)$ binary matrix that marks on which days people are on campus (0 is not on campus, 1 is on campus and available to test). This way, multiplying $avail$ by $assignment$ elementwise and summing across rows gives a $ n\\_people $ vector with the counts of well-scheduled tests that week for each person. Moreover, summing $ assignment$ across columns gives the total number of tests per day, which we want to keep fairly even. -->"
   ]
  },
  {
   "cell_type": "markdown",
   "metadata": {
    "colab_type": "text",
    "id": "uIlsrDbjHQyc"
   },
   "source": [
    "# setup"
   ]
  },
  {
   "cell_type": "markdown",
   "metadata": {},
   "source": [
    "One important aspect is creating a realistic schedule on which to test our model. It's not as simple as just letting everyone have random availability. It would be nice to have a tool that allows you to tweak the specific scheduling parameters for different campuses. Here are things we should consider:\n",
    "* Split campus community members into three groups — students, faculty, staff\n",
    "* A large proportion of students should be available 7 days a week, since they live on campus\n",
    "* The rest of the students should be available on the weekends and either on MWF or TTh (this is at least the case at UChicago — should investigate more)\n",
    "* Professors should be available 1-2 days a week, never on weekends\n",
    "  * If 2 days a week, not consecutive days?\n",
    "* Staff ??? depends on the staff, need to think more about this."
   ]
  },
  {
   "cell_type": "code",
   "execution_count": 213,
   "metadata": {},
   "outputs": [],
   "source": [
    "def runTrial(n_trials, n_people, n_blocks, buffer, n_days=7, test_interval=3.5, pcts=[.7,.2,.1]):\n",
    "    n_people = n_people\n",
    "    n_blocks = n_blocks\n",
    "    buffer = buffer\n",
    "    n_tests = n_days / test_interval # corresponds to F_i\n",
    "\n",
    "    times = []\n",
    "    spreads = []\n",
    "    maxDevs = []\n",
    "    infeasibles = 0\n",
    "    for t in range(n_trials):\n",
    "        if (t%10 == 0):\n",
    "            print(t)\n",
    "        avail, b, beq, spaces, bb = runSetup(pcts, n_people, n_days, n_blocks, n_tests)\n",
    "        adjacencies, sameDays = make_constraints(n_days, n_blocks)\n",
    "        start = time.perf_counter()\n",
    "        assignment = runOpt(n_people, n_days, n_blocks, avail, bb, beq, spaces, buffer)\n",
    "        end = time.perf_counter()\n",
    "        if assignment.value is not None:\n",
    "            spreadScore, block_demands, max_deviation = analyze(assignment, n_people, n_days, n_blocks, n_tests)\n",
    "#             print(\"Optimization done\")\n",
    "            times.append(end-start)\n",
    "            spreads.append(spreadScore)\n",
    "            maxDevs.append(max_deviation)\n",
    "        else:\n",
    "#             print(\"Situation infeasible\")\n",
    "            infeasibles += 1\n",
    "    print(\"There were %d infeasibles\" % infeasibles)\n",
    "          \n",
    "    return times, spreads, maxDevs"
   ]
  },
  {
   "cell_type": "code",
   "execution_count": 208,
   "metadata": {},
   "outputs": [],
   "source": [
    "def plotTrials(ts, ss, mds, buffer, test_interval, n_people, n_blocks, n_trials):\n",
    "    fig, ax = plt.subplots(1,3, figsize=(16,4))\n",
    "    fig.suptitle(\"%d people, %d blocks, random availability\" % (n_people, n_blocks), fontsize=16)\n",
    "    \n",
    "    ax[0].set_title(\"Runtime\", fontsize=12)\n",
    "    ax[0].set_xlabel(\"seconds\", fontsize=12)\n",
    "    ax[0].hist(ts)\n",
    "    \n",
    "    \n",
    "    ax[1].set_title(\"Spread Score\", fontsize=12)\n",
    "    ax[1].set_xlabel(\"squared distance from Q%0.1f\" % test_interval, fontsize=12)\n",
    "    ax[1].hist(ss)\n",
    "    \n",
    "    ax[2].set_title(\"Max Deviation (capped at ~ %.02f)\" % buffer, fontsize=12)\n",
    "    ax[2].set_xlabel(\"% deviation from avg\", fontsize=12)\n",
    "    ax[2].hist(mds)\n",
    "    \n",
    "#     fig.show()\n",
    "    fig.savefig(\"p\" + str(n_people) + \"b\" + str(n_blocks) + \"_x\" + str(n_trials) + \".png\", dpi=300)"
   ]
  },
  {
   "cell_type": "code",
   "execution_count": 214,
   "metadata": {
    "scrolled": true
   },
   "outputs": [
    {
     "name": "stdout",
     "output_type": "stream",
     "text": [
      "0\n",
      "10\n",
      "20\n",
      "30\n",
      "40\n",
      "50\n",
      "60\n",
      "70\n",
      "80\n",
      "90\n",
      "There were 0 infeasibles\n"
     ]
    }
   ],
   "source": [
    "ts100, ss100, mds100 = runTrial(100, 100, 1, .2)"
   ]
  },
  {
   "cell_type": "code",
   "execution_count": 215,
   "metadata": {},
   "outputs": [
    {
     "name": "stdout",
     "output_type": "stream",
     "text": [
      "0\n",
      "10\n",
      "20\n",
      "30\n",
      "40\n",
      "50\n",
      "60\n",
      "70\n",
      "80\n",
      "90\n",
      "There were 0 infeasibles\n"
     ]
    }
   ],
   "source": [
    "ts1000, ss1000, mds1000 = runTrial(100, 1000, 1, .2)"
   ]
  },
  {
   "cell_type": "code",
   "execution_count": 216,
   "metadata": {},
   "outputs": [
    {
     "name": "stdout",
     "output_type": "stream",
     "text": [
      "0\n",
      "10\n",
      "20\n",
      "30\n",
      "40\n",
      "50\n",
      "60\n",
      "70\n",
      "80\n",
      "90\n",
      "There were 0 infeasibles\n"
     ]
    }
   ],
   "source": [
    "ts10000, ss10000, mds10000 = runTrial(100, 10000, 1, .2)"
   ]
  },
  {
   "cell_type": "code",
   "execution_count": 217,
   "metadata": {
    "scrolled": true
   },
   "outputs": [
    {
     "data": {
      "image/png": "[encoded data removed]",
      "text/plain": [
       "<Figure size 1152x288 with 3 Axes>"
      ]
     },
     "metadata": {
      "needs_background": "light"
     },
     "output_type": "display_data"
    }
   ],
   "source": [
    "plotTrials(ts100, ss100, mds100, 0.2, 3.5, 100, 1, 100)"
   ]
  },
  {
   "cell_type": "code",
   "execution_count": 218,
   "metadata": {},
   "outputs": [
    {
     "data": {
      "image/png": "[encoded data removed]",
      "text/plain": [
       "<Figure size 1152x288 with 3 Axes>"
      ]
     },
     "metadata": {
      "needs_background": "light"
     },
     "output_type": "display_data"
    }
   ],
   "source": [
    "plotTrials(ts1000, ss1000, mds1000, 0.2, 3.5, 1000, 1, 100)"
   ]
  },
  {
   "cell_type": "code",
   "execution_count": 219,
   "metadata": {},
   "outputs": [
    {
     "data": {
      "image/png": "[encoded data removed]",
      "text/plain": [
       "<Figure size 1152x288 with 3 Axes>"
      ]
     },
     "metadata": {
      "needs_background": "light"
     },
     "output_type": "display_data"
    }
   ],
   "source": [
    "plotTrials(ts10000, ss10000, mds10000, 0.2, 3.5, 10000, 1, 100)"
   ]
  },
  {
   "cell_type": "code",
   "execution_count": 114,
   "metadata": {},
   "outputs": [
    {
     "data": {
      "text/plain": [
       "[0.774445071999935,\n",
       " 0.27145038399999066,\n",
       " 0.149229245000015,\n",
       " 0.09112261599989324,\n",
       " 0.7248709149998831]"
      ]
     },
     "execution_count": 114,
     "metadata": {},
     "output_type": "execute_result"
    }
   ],
   "source": [
    "ts"
   ]
  },
  {
   "cell_type": "code",
   "execution_count": 116,
   "metadata": {},
   "outputs": [
    {
     "data": {
      "text/plain": [
       "[0.42040984900017975,\n",
       " 0.4982518340000297,\n",
       " 0.8006295870000031,\n",
       " 0.5691357310001877,\n",
       " 0.42324104700014686]"
      ]
     },
     "execution_count": 116,
     "metadata": {},
     "output_type": "execute_result"
    }
   ],
   "source": [
    "ts"
   ]
  },
  {
   "cell_type": "code",
   "execution_count": 4,
   "metadata": {},
   "outputs": [],
   "source": [
    "def make_avails_random(n_people, n_days, n_blocks):\n",
    "    avail = np.random.randint(0,2, size=(n_people, n_blocks*n_days))\n",
    "    \n",
    "    # To check if someone is available at some point on each day\n",
    "    avail_days = np.zeros((n_people, n_days))\n",
    "    for i in range(n_people):\n",
    "        for j in range(n_days):\n",
    "            isAvail = False\n",
    "            for k in range(n_blocks):\n",
    "                if avail[i][j*n_blocks + k] == 1:\n",
    "                    isAvail = True\n",
    "            if isAvail:\n",
    "                avail_days[i][j] = 1\n",
    "    return avail, avail_days\n",
    "\n",
    "def make_avails(student_pct, prof_pct, staff_pct):\n",
    "    sum = student_pct + prof_pct + staff_pct\n",
    "#     print(\"Sum of percents is %.02f (should be 1.00)\" % sum)\n",
    "    \n",
    "    weeks = {'fully_avail':[1,1,1,1,1,1,1], 'mwf':[1,0,1,0,1,1,1], 'tth':[0,1,0,1,0,1,1],\n",
    "             '1prof1':[1,0,0,0,0,0,0], '1prof2':[0,1,0,0,0,0,0], '1prof3':[0,0,1,0,0,0,0],\n",
    "             '1prof4':[0,0,0,1,0,0,0], '1prof5':[0,0,0,0,1,0,0], '1prof1':[1,0,0,0,0,0,0],\n",
    "             '2prof1':[1,0,1,0,0,0,0], '2prof2':[0,1,0,1,0,0,0], '2prof3':[0,0,1,0,1,0,0]}\n",
    "\n",
    "    \n",
    "    avail = np.zeros((n_people, n_days))\n",
    "    for row in range(len(avail)):\n",
    "        member = random.uniform(0,1)\n",
    "        if member < student_pct: \n",
    "            studentAvail = random.uniform(0,1)\n",
    "            if studentAvail < 0.7:\n",
    "                avail[row] = weeks['fully_avail']\n",
    "                continue\n",
    "            else:\n",
    "                flipCoin = random.uniform(0,1)\n",
    "                if flipCoin < 0.5:\n",
    "                    avail[row] = weeks['mwf']\n",
    "                    continue\n",
    "                else:\n",
    "                    avail[row] = weeks['tth']\n",
    "                    continue\n",
    "        elif member < student_pct + prof_pct + staff_pct: # treat staff same as profs (for now)\n",
    "            oneOrTwo = random.uniform(0,1)\n",
    "            if oneOrTwo < 0.7: # 70% chance profs/staff are one campus 1x a week\n",
    "                i = '1'\n",
    "                day = str(random.randint(1,5))\n",
    "                avail[row] = weeks[i + 'prof' + day]\n",
    "                continue\n",
    "            else:\n",
    "                i = '2'\n",
    "                day = str(random.randint(1,3))\n",
    "                avail[row] = weeks[i + 'prof' + day]\n",
    "                continue\n",
    "    return avail"
   ]
  },
  {
   "cell_type": "code",
   "execution_count": 28,
   "metadata": {
    "colab": {},
    "colab_type": "code",
    "id": "f3LstPXAHQyc"
   },
   "outputs": [],
   "source": [
    "def runSetup(pcts, n_people, n_days, n_blocks, n_tests):\n",
    "    # create random availability matrix\n",
    "    avail, avail_days = make_avails_random(n_people, n_days, n_blocks) # truly random\n",
    "#     avail = make_avails(pcts[0], pcts[1], pcts[2]) # more realistic -- not in parallel to random one!\n",
    "    \n",
    "    \n",
    "    # Identify people who have infeasible availabilities\n",
    "    people_total_availability = np.sum(avail_days, 1)\n",
    "    infeasible_people = np.where(people_total_availability < n_tests)\n",
    "    \n",
    "    # If people have 2 or fewer available days, their schedule can't be shifted\n",
    "    # to account for optimal spacing\n",
    "    unshiftable_people = np.where(people_total_availability <= n_tests)\n",
    "\n",
    "    # beq tracks how many tests people should take — 2 if possible, fewer if they're less available\n",
    "    beq = np.multiply(n_tests, np.ones((n_people,))) # this could be changed!! to be better! dimensionality\n",
    "    for i in range(len(infeasible_people[0])):\n",
    "        beq[infeasible_people[0][i]] = people_total_availability[infeasible_people[0][i]]\n",
    "        \n",
    "    # Setup for the optimal spacing constraint — see optimization constraints below\n",
    "    spaces = np.ones((n_people,))\n",
    "    for i in range(len(unshiftable_people[0])):\n",
    "        spaces[unshiftable_people[0][i]] += 1 \n",
    "\n",
    "    # Calculate the average number of tests per day\n",
    "    b_value = (n_people*n_tests/n_days)\n",
    "    b = np.multiply(b_value, np.ones((n_days,)))\n",
    "    \n",
    "    # Calculate the average number of tests per block\n",
    "    bb_value = b_value / n_blocks\n",
    "    bb = np.multiply(bb_value, np.ones((n_blocks * n_days,)))\n",
    "    \n",
    "#     print(avail[0])\n",
    "#     print(avail_days[0])\n",
    "    \n",
    "    return avail, b, beq, spaces, bb"
   ]
  },
  {
   "cell_type": "code",
   "execution_count": 91,
   "metadata": {},
   "outputs": [],
   "source": [
    "def analyze(assignment, n_people, n_days, n_blocks, n_tests):\n",
    "    \n",
    "    sched_days = np.zeros((n_people, n_days))\n",
    "    sched_blocks = assignment.value\n",
    "#     print(sched_blocks[0])\n",
    "    for i in range(n_people):\n",
    "        for j in range(n_days):\n",
    "            isAvail = False\n",
    "            for k in range(n_blocks):\n",
    "                if sched_blocks[i][j*n_blocks + k] == 1:\n",
    "                    isAvail = True\n",
    "            if isAvail:\n",
    "                sched_days[i][j] = 1\n",
    "#     print(sched_days.shape)\n",
    "    \n",
    "    # Compute spread score (lower is better)\n",
    "    score = 0\n",
    "    for week in sched_days:\n",
    "#         print(week)\n",
    "        scheduled_days = []\n",
    "        for i in range(n_days):\n",
    "            if week[i] == 1:\n",
    "                scheduled_days.append(i)\n",
    "        if len(scheduled_days) == 2:\n",
    "            score += ((scheduled_days[1] - scheduled_days[0]) - (n_days / n_tests)) ** 2\n",
    "#         print(score)\n",
    "    spreadScore = score / n_people\n",
    "    \n",
    "    # Compute block demands, deviations\n",
    "    block_demands = np.sum(assignment.value, axis=0)\n",
    "    exp_supply_per_block = n_people * n_tests / (n_days * n_blocks)\n",
    "    max_deviation = max(block_demands.max() - exp_supply_per_block,\n",
    "                        exp_supply_per_block - block_demands.min()) / exp_supply_per_block # MIN, right?\n",
    "    \n",
    "    return spreadScore, block_demands, max_deviation"
   ]
  },
  {
   "cell_type": "markdown",
   "metadata": {},
   "source": [
    "# constraints matrices"
   ]
  },
  {
   "cell_type": "code",
   "execution_count": 83,
   "metadata": {},
   "outputs": [],
   "source": [
    "def make_constraints(n_days, n_blocks):\n",
    "    consecs = np.zeros((n_blocks**2, 2*n_blocks))\n",
    "    for i in range(n_blocks**2):\n",
    "        for j in range(2*n_blocks):\n",
    "            consecs[i][int(np.floor(i/n_blocks))] = 1\n",
    "            consecs[i][int(n_blocks + np.floor(i%n_blocks))] = 1\n",
    "\n",
    "    possible_adjs = (n_blocks**2) * (n_days-1)\n",
    "    adjacencies = np.zeros((possible_adjs, 1*n_blocks * n_days)) # quadratic w. number of blocks\n",
    "    for i in range(n_days - 1):\n",
    "        adjacencies[(n_blocks**2) *i:(n_blocks**2) * (i+1), n_blocks*i:n_blocks*i + 2*n_blocks] = consecs\n",
    "\n",
    "    sameDays = np.zeros((n_days, n_blocks*n_days))\n",
    "    for i in range(len(sameDays)):\n",
    "        idx = n_blocks*i\n",
    "        for j in range(n_blocks):\n",
    "            sameDays[i][idx + j] = 1\n",
    "            \n",
    "#     plt.imshow(sameDays)\n",
    "#     plt.show()\n",
    "\n",
    "#     plt.figure(num=1, figsize=(8,n_people/2))\n",
    "#     plt.imshow(adjacencies, aspect='auto', extent=[0,n_blocks*n_days,(n_blocks ** 2) * (n_days - 1),0])\n",
    "#     plt.grid(which='major', axis='both', linestyle='-', color='k', linewidth=1.2)\n",
    "#     plt.xticks(np.arange(0,n_blocks * n_days, 1))\n",
    "#     plt.yticks(np.arange(0, possible_adjs, 1))\n",
    "#     plt.show()\n",
    "    \n",
    "    return adjacencies, sameDays"
   ]
  },
  {
   "cell_type": "markdown",
   "metadata": {
    "colab_type": "text",
    "id": "FECAtpNfHQyk"
   },
   "source": [
    "# cvxpy optimization"
   ]
  },
  {
   "cell_type": "code",
   "execution_count": 38,
   "metadata": {
    "colab": {},
    "colab_type": "code",
    "id": "4bZoync0HQyk",
    "scrolled": true
   },
   "outputs": [],
   "source": [
    "# n_days = 7\n",
    "# n_people = 1000\n",
    "# n_blocks = 6\n",
    "# test_interval = 3.5 # corresponds to Qs_i\n",
    "# n_tests = n_days / test_interval # corresponds to F_i\n",
    "# buffer = .20\n",
    "\n",
    "# avail, b, beq, spaces, bb = runSetup([.7,.2,.1], n_people, n_days, n_blocks, n_tests)\n",
    "\n",
    "def runOpt(n_people, n_days, n_blocks, avail, bb, beq, spaces, buffer):\n",
    "    assignment = cp.Variable((n_people, n_blocks * n_days), boolean=True)\n",
    "    adjacencies, sameDays = make_constraints(n_days, n_blocks)\n",
    "\n",
    "    # Working on an objective function to track schedule spacing\n",
    "    # (not working right now, not implemented)\n",
    "#     def objective():\n",
    "#         expr = []\n",
    "#         for i in range(n_days):\n",
    "#             for j in range(i + 1, n_days):\n",
    "#                 penalty = ((j - i) - test_interval)**2\n",
    "#                 expr.append(penalty * cp.sum(assignment[:, i], assignment[:, j]))\n",
    "#         expr.append(cp.sum(expr))\n",
    "\n",
    "    constraints = [\n",
    "        cp.sum(assignment, axis=0) <= np.ceil(bb * (1 + buffer)), # set load ub\n",
    "        cp.sum(assignment, axis=0) >= np.floor(bb * (1 - buffer)), # set load lb\n",
    "        cp.sum(assignment, axis=1) == beq, # enforce taking F_i tests\n",
    "        cp.sum(cp.multiply(assignment, avail), axis=1) == beq # align with availability\n",
    "    ]\n",
    "    \n",
    "    # Ensure that nobody is scheduled more than once each day\n",
    "    for i in range(n_days):\n",
    "        same = sameDays[i]*np.ones((n_people,1))\n",
    "        constraints.append(cp.sum(cp.multiply(assignment, same), axis=1) <= np.ones((n_people,)))\n",
    "    \n",
    "    # Ensure each person has no consecutive days scheduled, unless that's all they can do\n",
    "    for i in range(len(adjacencies)):\n",
    "        consec = adjacencies[i]*np.ones((n_people,1))\n",
    "        constraints.append(cp.sum(cp.multiply(assignment, consec), axis=1) <= spaces)\n",
    "\n",
    "#     obj = cp.Minimize(objective()) # Spread objective function (not working)\n",
    "    obj = cp.Maximize(cp.sum(assignment)) # Dummy objective function\n",
    "\n",
    "    prob = cp.Problem(obj, constraints=constraints)\n",
    "    prob.solve()\n",
    "\n",
    "    return assignment\n",
    "\n",
    "# assignment = runOpt(n_people, n_days, n_blocks)\n",
    "\n",
    "# if assignment.value is not None:\n",
    "#     spreadScore, block_demands, max_deviation = analyze(assignment, n_people, n_days, n_blocks)\n",
    "#     print(\"Optimization done\")\n",
    "# else:\n",
    "#     print(\"Situation infeasible\")"
   ]
  },
  {
   "cell_type": "markdown",
   "metadata": {},
   "source": [
    "# analysis"
   ]
  },
  {
   "cell_type": "code",
   "execution_count": null,
   "metadata": {
    "colab": {},
    "colab_type": "code",
    "id": "p8Z-g_9FHQyn",
    "scrolled": true
   },
   "outputs": [],
   "source": [
    "print(\"Spread score is: %.02f\" % spreadScore)\n",
    "print(\"Max deviation %% is: %.01f\" % (100 * max_deviation))\n",
    "print('Block demand (min):', block_demands.min())\n",
    "print('Block demand (max):', block_demands.max())\n",
    "print('All block demands:', block_demands)\n",
    "daily_demands = [sum(block_demands[i:i+3]) for i in range(0, blocks*n_days - 1, 3)]\n",
    "print('All daily demands:', daily_demands)\n",
    "\n",
    "\n",
    "if n_people <= 1000:\n",
    "    # Display Calendar\n",
    "    scaled_assignment = np.multiply(assignment.value, 0.5)\n",
    "    data = np.add(scaled_assignment, avail)\n",
    "\n",
    "    outputColors = colors.ListedColormap(['gray', 'red', 'yellow', 'green'])\n",
    "    availColors = colors.ListedColormap(['gray', 'yellow'])\n",
    "\n",
    "    plt.figure(num=1, figsize=(8,n_people/4))\n",
    "    plt.title(\"Output Vector\", fontsize=16)\n",
    "    plt.imshow(data, cmap=outputColors, aspect='auto', extent=[0, n_days, n_people, 0])\n",
    "    plt.grid(which='major', axis='both', linestyle='-', color='k', linewidth=1.2)\n",
    "    plt.xticks(np.arange(0,n_days, 1))\n",
    "    plt.yticks(np.arange(0, n_people, 1))\n",
    "\n",
    "    plt.xlabel(\"Day\", fontsize=12)\n",
    "    plt.ylabel(\"Person\", fontsize=12)\n",
    "    plt.savefig('output.png', dpi=300, bbox_inches='tight')\n",
    "    plt.show()"
   ]
  },
  {
   "cell_type": "markdown",
   "metadata": {},
   "source": [
    "# quantifications of performance"
   ]
  },
  {
   "cell_type": "markdown",
   "metadata": {
    "colab_type": "text",
    "id": "fLv68_8JHQyq"
   },
   "source": [
    "# running many trials\n",
    "to check the distributions of spread scores, load balancing deviations"
   ]
  },
  {
   "cell_type": "code",
   "execution_count": null,
   "metadata": {
    "colab": {},
    "colab_type": "code",
    "id": "fBva22gBHQyq"
   },
   "outputs": [],
   "source": [
    "%%time\n",
    "\n",
    "spreads = []\n",
    "devs = []\n",
    "times = []\n",
    "infeasible = 0\n",
    "for t in range(500):\n",
    "    if (t%50 == 0):\n",
    "        print(t)\n",
    "    avail, b, beq, spaces, bb = runSetup([.7,.2,.1])\n",
    "    before = datetime.datetime.now()\n",
    "    assignment = runOpt()\n",
    "    after = datetime.datetime.now()\n",
    "    times.append(after - before)\n",
    "    if assignment.value is not None:\n",
    "        spreadScore, daily_demands, max_deviation = analyze(assignment)\n",
    "        spreads.append(spreadScore)\n",
    "        devs.append(100 * max_deviation)\n",
    "    else:\n",
    "        infeasible += 1\n",
    "print(\"There were %d infeasible situations\" % infeasible)"
   ]
  },
  {
   "cell_type": "code",
   "execution_count": null,
   "metadata": {},
   "outputs": [],
   "source": [
    "(sum(times, datetime.timedelta(0)) / len(times)).seconds + (0.000001) * (sum(times, datetime.timedelta(0)) / len(times)).microseconds"
   ]
  },
  {
   "cell_type": "code",
   "execution_count": null,
   "metadata": {},
   "outputs": [],
   "source": [
    "ts = [t.seconds + (0.000001 * t.microseconds) for t in times]"
   ]
  },
  {
   "cell_type": "code",
   "execution_count": null,
   "metadata": {
    "scrolled": true
   },
   "outputs": [],
   "source": [
    "plt.hist(ts)\n",
    "plt.xlabel(\"seconds\")\n",
    "plt.savefig(\"time_dist.png\")\n",
    "plt.show()"
   ]
  },
  {
   "cell_type": "code",
   "execution_count": null,
   "metadata": {
    "colab": {},
    "colab_type": "code",
    "id": "DESZ71w6HQys"
   },
   "outputs": [],
   "source": [
    "plt.title(\"Distribution of Spread Scores, realistic schedules\")\n",
    "plt.hist(spreads)\n",
    "plt.savefig('spreads_realistic_bounded.png', dpi=300, bbox_inches='tight')\n",
    "plt.show()\n",
    "\n",
    "plt.title(\"Distribution of Max Deviations (%), realistic schedules\")\n",
    "plt.hist(devs)\n",
    "plt.savefig('maxDevs_realistic_bounded.png', dpi=300, bbox_inches='tight')\n",
    "plt.show()"
   ]
  },
  {
   "cell_type": "code",
   "execution_count": null,
   "metadata": {},
   "outputs": [],
   "source": []
  }
 ],
 "metadata": {
  "colab": {
   "name": "linear_program.ipynb",
   "provenance": []
  },
  "kernelspec": {
   "display_name": "Python 3",
   "language": "python",
   "name": "python3"
  },
  "language_info": {
   "codemirror_mode": {
    "name": "ipython",
    "version": 3
   },
   "file_extension": ".py",
   "mimetype": "text/x-python",
   "name": "python",
   "nbconvert_exporter": "python",
   "pygments_lexer": "ipython3",
   "version": "3.8.3"
  }
 },
 "nbformat": 4,
 "nbformat_minor": 1
}
