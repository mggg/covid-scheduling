{
 "cells": [
  {
   "cell_type": "code",
   "execution_count": 1,
   "metadata": {},
   "outputs": [],
   "source": [
    "import numpy as np\n",
    "import cvxpy as cp\n",
    "from collections import defaultdict"
   ]
  },
  {
   "cell_type": "markdown",
   "metadata": {},
   "source": [
    "## Bipartite matching scheduling formulation\n",
    "In this notebook, we investigate a bipartite matching reformulation of the 7-day scheduling problem. Rather than assigning individual people to test schedules, we observe that there are only $2^7 - 8 = 120$ unique, valid student schedules (there are only 120 binary strings of length 7 with at least two 1s) and 21 testing schedules (there are only 21 binary strings of length 7 with exactly two 1s). These unique student schedules can be weighted according to their prevalence, and we can impose constraints to avoid overloading any particular testing day.\n",
    "\n",
    "One disadvantage of this approach is that, at least naively, the number of nodes on each side of the bipartite graph is exponential (though the number of person schedules is bounded by the number of people); this can potentially be alleviated by breaking the semester scheduling problem up into smaller problems and proving some bounds on the optimality of the disjoint solution. Also, this approach is not dynamic according to the criteria Moon described. However, it has the following advantages:\n",
    "* It scales according to the number of days, *not* according to the number of students.\n",
    "* The problem size is quite small for the 7-day case.\n",
    "* We can use it to find a scheduling that minimizes the **mean squared deviation from the testing interval**—that is, if we desire Q3.5 testing, then person-test assignments with a 3-day or 4-day testing interval are cheap, and person-test assignments with a 1-day or 6-day testing interval are quite expensive."
   ]
  },
  {
   "cell_type": "code",
   "execution_count": 2,
   "metadata": {},
   "outputs": [],
   "source": [
    "n_days = 7\n",
    "test_interval = 3.5\n",
    "n_tests = n_days / test_interval\n",
    "buffer = .05"
   ]
  },
  {
   "cell_type": "code",
   "execution_count": 3,
   "metadata": {},
   "outputs": [],
   "source": [
    "person_schedules = ['{:07b}'.format(i) for i in range(2 ** n_days)\n",
    "                    if '{:b}'.format(i).count('1') >= n_tests]\n",
    "test_schedules = ['{:07b}'.format(i) for i in range(2 ** n_days)\n",
    "                    if '{:b}'.format(i).count('1') == n_tests]"
   ]
  },
  {
   "cell_type": "code",
   "execution_count": 4,
   "metadata": {},
   "outputs": [],
   "source": [
    "test_costs = np.zeros(len(test_schedules))\n",
    "test_days = np.zeros((n_days, len(test_schedules)))\n",
    "test_schedule_intervals = []\n",
    "for idx, sched in enumerate(test_schedules):\n",
    "    interval = sched[sched.index('1') + 1:].index('1') + 1\n",
    "    test_schedule_intervals.append(interval)\n",
    "    test_days[sched.index('1'), idx] = 1\n",
    "    test_days[sched.index('1') + interval, idx] = 1\n",
    "    test_costs[idx] = (interval - test_interval)**2"
   ]
  },
  {
   "cell_type": "code",
   "execution_count": 5,
   "metadata": {},
   "outputs": [
    {
     "data": {
      "text/plain": [
       "array([6.25, 2.25, 6.25, 0.25, 2.25, 6.25, 0.25, 0.25, 2.25, 6.25, 2.25,\n",
       "       0.25, 0.25, 2.25, 6.25, 6.25, 2.25, 0.25, 0.25, 2.25, 6.25])"
      ]
     },
     "execution_count": 5,
     "metadata": {},
     "output_type": "execute_result"
    }
   ],
   "source": [
    "test_costs"
   ]
  },
  {
   "cell_type": "code",
   "execution_count": 6,
   "metadata": {},
   "outputs": [],
   "source": [
    "def compatible(person_schedule, test_schedule):\n",
    "    return not any(t == '1' and p == '0'\n",
    "                   for t, p in zip(test_schedule, person_schedule))\n",
    "\n",
    "pairwise_costs = np.zeros((len(person_schedules), len(test_schedules)))\n",
    "for p_idx, p_sched in enumerate(person_schedules):\n",
    "    for t_idx, t_sched in enumerate(test_schedules):\n",
    "        if compatible(p_sched, t_sched):\n",
    "            pairwise_costs[p_idx, t_idx] = test_costs[t_idx]\n",
    "        else:\n",
    "            pairwise_costs[p_idx, t_idx] = 100000"
   ]
  },
  {
   "cell_type": "code",
   "execution_count": 7,
   "metadata": {},
   "outputs": [],
   "source": [
    "np.random.seed(0)\n",
    "demand_per_schedule = np.random.randint(0, 100, len(person_schedules))\n",
    "max_supply_per_day = demand_per_schedule.sum() / test_interval"
   ]
  },
  {
   "cell_type": "markdown",
   "metadata": {},
   "source": [
    "#### Variables\n",
    "* $x_{ij}$ – the assignment of person schedule $i$ to testing schedule $j$ and $c_{ij}$.\n",
    "* $c_{ij}$ – the unit cost of assignment $x_{ij}$. We fix $c_{ij} = \\infty$ (in practice, a very large constant) if the person schedule is incompatible with the testing schedule, and we fix $c_{ij}$ to the score (the mean squared deviation from the testing interval) of the testing schedule otherwise.\n",
    "* $w_i$ – the weight (number of people) of person schedule $i$. \n",
    "* $n$ – number of person schedules\n",
    "* $m$ – the number of testing schedules.\n",
    "* $d$ - expected supply per day\n",
    "* $\\alpha$ - daily supply tolerance\n",
    "* $D$ - a binary matrix encoding the days used in each testing schedule (dimension $7 \\times m$)\n",
    "\n",
    "\n",
    "#### Problema\n",
    "\n",
    "\\begin{gather*}\n",
    "\\min \\quad \\sum_{i=1}^{n} \\sum_{j=1}^{m} x_{ij} c_{ij} \\\\\n",
    "\\begin{aligned}\n",
    "\\text{s.t. } x_{ij} \\geq 0 \\qquad &\\forall i \\in [1, n], j \\in [1, m] &\\text{(non-negativity)} \\\\\n",
    "\\sum_{j=1}^m x_{ij} = w_i \\qquad &\\forall i \\in [1, n] &\\text{(demand is satisfied)} \\\\\n",
    "\\sum_{i=1}^n x_{ij} \\geq (1 - \\alpha)d \\qquad &\\forall j \\in [1, m] &\\text{(minimum daily supply)} \\\\\n",
    "\\sum_{i=1}^n x_{ij} \\leq (1 + \\alpha)d \\qquad &\\forall j \\in [1, m] &\\text{(maximum daily supply)} \n",
    "\\end{aligned}\n",
    "\\end{gather*}"
   ]
  },
  {
   "cell_type": "code",
   "execution_count": 8,
   "metadata": {},
   "outputs": [
    {
     "name": "stdout",
     "output_type": "stream",
     "text": [
      "Using license file /Users/pjrule/gurobi.lic\n",
      "Academic license - for non-commercial use only\n"
     ]
    },
    {
     "data": {
      "text/plain": [
       "4798.5"
      ]
     },
     "execution_count": 8,
     "metadata": {},
     "output_type": "execute_result"
    }
   ],
   "source": [
    "assignment = cp.Variable((len(person_schedules), len(test_schedules)), integer=True)\n",
    "objective = cp.Minimize(cp.sum(cp.multiply(pairwise_costs, assignment)))\n",
    "constraints = [\n",
    "    assignment >= 0,\n",
    "    cp.sum(assignment, axis=1) == demand_per_schedule,\n",
    "    test_days @ cp.sum(assignment, axis=0) <= (1 + buffer) * max_supply_per_day,\n",
    "    test_days @ cp.sum(assignment, axis=0) >= (1 - buffer) * max_supply_per_day,\n",
    "]\n",
    "prob = cp.Problem(objective, constraints=constraints)\n",
    "prob.solve()"
   ]
  },
  {
   "cell_type": "code",
   "execution_count": 9,
   "metadata": {},
   "outputs": [
    {
     "name": "stdout",
     "output_type": "stream",
     "text": [
      "Daily demand (min): 1606.0\n",
      "Daily demand (max): 1774.0\n",
      "All daily demands: [1667. 1606. 1774. 1774. 1627. 1774. 1606.]\n"
     ]
    }
   ],
   "source": [
    "sol = np.array(assignment.value)\n",
    "daily_demands = test_days @ sol.sum(axis=0)\n",
    "print('Daily demand (min):', daily_demands.min())\n",
    "print('Daily demand (max):', daily_demands.max())\n",
    "print('All daily demands:', daily_demands)"
   ]
  },
  {
   "cell_type": "code",
   "execution_count": 10,
   "metadata": {},
   "outputs": [],
   "source": [
    "sol_interval_counts = defaultdict(int)\n",
    "for idx, count in enumerate(sol.sum(axis=0)):\n",
    "    sol_interval_counts[test_schedule_intervals[idx]] += count"
   ]
  },
  {
   "cell_type": "code",
   "execution_count": 11,
   "metadata": {},
   "outputs": [
    {
     "name": "stdout",
     "output_type": "stream",
     "text": [
      "--- Tests by spacing ---\n",
      "1 days: 283\n",
      "2 days: 537\n",
      "3 days: 3094\n",
      "4 days: 1832\n",
      "5 days: 115\n",
      "6 days: 53\n"
     ]
    }
   ],
   "source": [
    "print('--- Tests by spacing ---')\n",
    "for interval, count in sol_interval_counts.items():\n",
    "    print('{:d} days: {:d}'.format(interval, int(count)))"
   ]
  },
  {
   "cell_type": "code",
   "execution_count": null,
   "metadata": {},
   "outputs": [],
   "source": []
  }
 ],
 "metadata": {
  "kernelspec": {
   "display_name": "Python 3",
   "language": "python",
   "name": "python3"
  },
  "language_info": {
   "codemirror_mode": {
    "name": "ipython",
    "version": 3
   },
   "file_extension": ".py",
   "mimetype": "text/x-python",
   "name": "python",
   "nbconvert_exporter": "python",
   "pygments_lexer": "ipython3",
   "version": "3.7.6"
  }
 },
 "nbformat": 4,
 "nbformat_minor": 4
}
