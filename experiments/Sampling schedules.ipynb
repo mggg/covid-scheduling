{
 "cells": [
  {
   "cell_type": "markdown",
   "metadata": {},
   "source": [
    "Scheduling regimes:\n",
    "* Days\n",
    "  * Days are independent (individual days have probabilities of occurrence)\n",
    "  * *Schedules* have probabilities, rather than individual days\n",
    "* Blocks\n",
    "  * All blocks have the same probability, regardless of day\n",
    "  * Block probabilities are dependent on day (advanced)\n",
    "  * Block probabilities are dependent on schedule (too complicated?)"
   ]
  },
  {
   "cell_type": "markdown",
   "metadata": {},
   "source": [
    "What we would *like* to do is generate a block assignment for each person without having to explicitly consider individuals. \n",
    "\n",
    "* For each block over the whole week, we can compute total availability; it seems this is not enough information.\n",
    "* Can we make sure that a particular daily schedule does not force underutilization of a particular block? Overutilization?\n",
    "* Is expectation useful here? Say a person $i$ is available for all 3 blocks in a particular day. Then we could define some indicator random variable $X_{ij}$, where $X_{ij} = 1$ if person $i$ shows up for testing during block $j$ and $X_{ij} = 0$ otherwise, such that $\\mathbb{E}[X_{ij}] = \\frac{1}{3}$. We could then bound overload in expectation.\n",
    "* Separate constraints for extreme cases (everyone who can choose shows up in block 1, ...)\n",
    "\n",
    "Another way to think of this: we're trying to make sure that a reasonably balanced block schedule on each day is *possible*, without necessarily generating that schedule. **What would make such a schedule impossible?**\n",
    "\n",
    "Looking at this more practically: what are some cheap bounds on the optimality of the greedy hierarchical solution? Specifically the following:\n",
    "1. Generate daily assignments based on bipartite matching, as before.\n",
    "2. With the daily matching fixed, solve another (looser) bipartite matching problem for each testing schedule. This time, use blocks as the units, not days.\n",
    "\n",
    "**Can we glue these formulations together?** (Probably, but the problem may be fairly large naively.)\n",
    "\n",
    "\n",
    "What would a hierarchical assign-and-adjust equivalent be? Consider the fact that we have both daily objectives and block-level objectives. However, all daily objectives can be converted to block-level objectives (naively with no loss of accuracy, and possibly with improvement)."
   ]
  },
  {
   "cell_type": "markdown",
   "metadata": {},
   "source": [
    "## Hierarchical bipartite matching\n",
    "\n",
    "#### Variables\n",
    "* $x_{ij}$ – the assignment of person schedule $i$ to testing schedule $j$ and $c_{ij}$.\n",
    "* $c_{ij}$ – the unit cost of assignment $x_{ij}$. We fix $c_{ij} = \\infty$ (in practice, a very large constant) if the person schedule is incompatible with the testing schedule, and we fix $c_{ij}$ to the score (the mean squared deviation from the testing interval) of the testing schedule otherwise.\n",
    "* $w_i$ – the weight (number of people) of person schedule $i$. \n",
    "* $n$ – number of person schedules\n",
    "* $m$ – the number of testing schedules.\n",
    "* $d$ - expected supply per day\n",
    "* $\\alpha$ - daily supply tolerance\n",
    "* $D$ - a binary matrix encoding the days used in each testing schedule (dimension $7 \\times m$)\n",
    "\n",
    "\n",
    "#### Problem (original)\n",
    "\n",
    "\\begin{gather*}\n",
    "\\min \\quad \\sum_{i=1}^{n} \\sum_{j=1}^{m} x_{ij} c_{ij} \\\\\n",
    "\\begin{aligned}\n",
    "\\text{s.t. } x_{ij} \\geq 0 \\qquad &\\forall i \\in [1, n], j \\in [1, m] &\\text{(non-negativity)} \\\\\n",
    "\\sum_{j=1}^m x_{ij} = w_i \\qquad &\\forall i \\in [1, n] &\\text{(demand is satisfied)} \\\\\n",
    "\\sum_{i=1}^n x_{ij} \\geq (1 - \\alpha)d \\qquad &\\forall j \\in [1, m] &\\text{(minimum daily supply)} \\\\\n",
    "\\sum_{i=1}^n x_{ij} \\leq (1 + \\alpha)d \\qquad &\\forall j \\in [1, m] &\\text{(maximum daily supply)} \n",
    "\\end{aligned}\n",
    "\\end{gather*}"
   ]
  },
  {
   "cell_type": "code",
   "execution_count": null,
   "metadata": {},
   "outputs": [],
   "source": []
  }
 ],
 "metadata": {
  "kernelspec": {
   "display_name": "Python 3",
   "language": "python",
   "name": "python3"
  },
  "language_info": {
   "codemirror_mode": {
    "name": "ipython",
    "version": 3
   },
   "file_extension": ".py",
   "mimetype": "text/x-python",
   "name": "python",
   "nbconvert_exporter": "python",
   "pygments_lexer": "ipython3",
   "version": "3.7.6"
  }
 },
 "nbformat": 4,
 "nbformat_minor": 4
}
